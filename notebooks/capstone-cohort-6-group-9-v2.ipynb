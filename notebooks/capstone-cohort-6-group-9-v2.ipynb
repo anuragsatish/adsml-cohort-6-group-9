{
  "nbformat": 4,
  "nbformat_minor": 0,
  "metadata": {
    "colab": {
      "provenance": []
    },
    "kernelspec": {
      "name": "python3",
      "display_name": "Python 3"
    },
    "language_info": {
      "name": "python"
    }
  },
  "cells": [
    {
      "cell_type": "markdown",
      "metadata": {
        "id": "cjbsL3HpBDWI"
      },
      "source": [
        "# **Install & Import Libraries**\n",
        "Install required libraries\n",
        "\n",
        "Import essential packages for QA development"
      ]
    },
    {
      "cell_type": "code",
      "execution_count": null,
      "metadata": {
        "colab": {
          "base_uri": "https://localhost:8080/"
        },
        "id": "v7i5tiTEA4uH",
        "outputId": "0d66c106-fb4b-4fce-9d21-dac1d4e2d367"
      },
      "outputs": [
        {
          "name": "stdout",
          "output_type": "stream",
          "text": [
            "\u001b[?25l   \u001b[90m━━━━━━━━━━━━━━━━━━━━━━━━━━━━━━━━━━━━━━━━\u001b[0m \u001b[32m0.0/491.2 kB\u001b[0m \u001b[31m?\u001b[0m eta \u001b[36m-:--:--\u001b[0m\r\u001b[2K   \u001b[91m━━━━━━━━━━━━━━━━━━━━━━━━━━━━━━━━━━━━━━━\u001b[0m\u001b[90m╺\u001b[0m \u001b[32m481.3/491.2 kB\u001b[0m \u001b[31m21.9 MB/s\u001b[0m eta \u001b[36m0:00:01\u001b[0m\r\u001b[2K   \u001b[90m━━━━━━━━━━━━━━━━━━━━━━━━━━━━━━━━━━━━━━━━\u001b[0m \u001b[32m491.2/491.2 kB\u001b[0m \u001b[31m9.5 MB/s\u001b[0m eta \u001b[36m0:00:00\u001b[0m\n",
            "\u001b[?25h\u001b[?25l   \u001b[90m━━━━━━━━━━━━━━━━━━━━━━━━━━━━━━━━━━━━━━━━\u001b[0m \u001b[32m0.0/116.3 kB\u001b[0m \u001b[31m?\u001b[0m eta \u001b[36m-:--:--\u001b[0m\r\u001b[2K   \u001b[90m━━━━━━━━━━━━━━━━━━━━━━━━━━━━━━━━━━━━━━━━\u001b[0m \u001b[32m116.3/116.3 kB\u001b[0m \u001b[31m8.6 MB/s\u001b[0m eta \u001b[36m0:00:00\u001b[0m\n",
            "\u001b[?25h\u001b[?25l   \u001b[90m━━━━━━━━━━━━━━━━━━━━━━━━━━━━━━━━━━━━━━━━\u001b[0m \u001b[32m0.0/183.9 kB\u001b[0m \u001b[31m?\u001b[0m eta \u001b[36m-:--:--\u001b[0m\r\u001b[2K   \u001b[90m━━━━━━━━━━━━━━━━━━━━━━━━━━━━━━━━━━━━━━━━\u001b[0m \u001b[32m183.9/183.9 kB\u001b[0m \u001b[31m13.4 MB/s\u001b[0m eta \u001b[36m0:00:00\u001b[0m\n",
            "\u001b[?25h\u001b[?25l   \u001b[90m━━━━━━━━━━━━━━━━━━━━━━━━━━━━━━━━━━━━━━━━\u001b[0m \u001b[32m0.0/143.5 kB\u001b[0m \u001b[31m?\u001b[0m eta \u001b[36m-:--:--\u001b[0m\r\u001b[2K   \u001b[90m━━━━━━━━━━━━━━━━━━━━━━━━━━━━━━━━━━━━━━━━\u001b[0m \u001b[32m143.5/143.5 kB\u001b[0m \u001b[31m11.1 MB/s\u001b[0m eta \u001b[36m0:00:00\u001b[0m\n",
            "\u001b[?25h\u001b[?25l   \u001b[90m━━━━━━━━━━━━━━━━━━━━━━━━━━━━━━━━━━━━━━━━\u001b[0m \u001b[32m0.0/194.8 kB\u001b[0m \u001b[31m?\u001b[0m eta \u001b[36m-:--:--\u001b[0m\r\u001b[2K   \u001b[90m━━━━━━━━━━━━━━━━━━━━━━━━━━━━━━━━━━━━━━━━\u001b[0m \u001b[32m194.8/194.8 kB\u001b[0m \u001b[31m11.3 MB/s\u001b[0m eta \u001b[36m0:00:00\u001b[0m\n",
            "\u001b[?25h\u001b[31mERROR: pip's dependency resolver does not currently take into account all the packages that are installed. This behaviour is the source of the following dependency conflicts.\n",
            "torch 2.6.0+cu124 requires nvidia-cublas-cu12==12.4.5.8; platform_system == \"Linux\" and platform_machine == \"x86_64\", but you have nvidia-cublas-cu12 12.5.3.2 which is incompatible.\n",
            "torch 2.6.0+cu124 requires nvidia-cuda-cupti-cu12==12.4.127; platform_system == \"Linux\" and platform_machine == \"x86_64\", but you have nvidia-cuda-cupti-cu12 12.5.82 which is incompatible.\n",
            "torch 2.6.0+cu124 requires nvidia-cuda-nvrtc-cu12==12.4.127; platform_system == \"Linux\" and platform_machine == \"x86_64\", but you have nvidia-cuda-nvrtc-cu12 12.5.82 which is incompatible.\n",
            "torch 2.6.0+cu124 requires nvidia-cuda-runtime-cu12==12.4.127; platform_system == \"Linux\" and platform_machine == \"x86_64\", but you have nvidia-cuda-runtime-cu12 12.5.82 which is incompatible.\n",
            "torch 2.6.0+cu124 requires nvidia-cudnn-cu12==9.1.0.70; platform_system == \"Linux\" and platform_machine == \"x86_64\", but you have nvidia-cudnn-cu12 9.3.0.75 which is incompatible.\n",
            "torch 2.6.0+cu124 requires nvidia-cufft-cu12==11.2.1.3; platform_system == \"Linux\" and platform_machine == \"x86_64\", but you have nvidia-cufft-cu12 11.2.3.61 which is incompatible.\n",
            "torch 2.6.0+cu124 requires nvidia-curand-cu12==10.3.5.147; platform_system == \"Linux\" and platform_machine == \"x86_64\", but you have nvidia-curand-cu12 10.3.6.82 which is incompatible.\n",
            "torch 2.6.0+cu124 requires nvidia-cusolver-cu12==11.6.1.9; platform_system == \"Linux\" and platform_machine == \"x86_64\", but you have nvidia-cusolver-cu12 11.6.3.83 which is incompatible.\n",
            "torch 2.6.0+cu124 requires nvidia-cusparse-cu12==12.3.1.170; platform_system == \"Linux\" and platform_machine == \"x86_64\", but you have nvidia-cusparse-cu12 12.5.1.3 which is incompatible.\n",
            "torch 2.6.0+cu124 requires nvidia-nvjitlink-cu12==12.4.127; platform_system == \"Linux\" and platform_machine == \"x86_64\", but you have nvidia-nvjitlink-cu12 12.5.82 which is incompatible.\n",
            "gcsfs 2025.3.2 requires fsspec==2025.3.2, but you have fsspec 2024.12.0 which is incompatible.\u001b[0m\u001b[31m\n",
            "\u001b[0m Using device: cuda\n"
          ]
        }
      ],
      "source": [
        "# Install necessary packages (quietly to avoid clutter)\n",
        "!pip install -q transformers datasets scikit-learn pandas tqdm\n",
        "!pip install transformers datasets --quiet\n",
        "#Import core Python & ML libraries\n",
        "import pandas as pd\n",
        "import numpy as np\n",
        "import torch\n",
        "from torch.utils.data import Dataset, DataLoader\n",
        "from transformers import BertTokenizerFast, BertForQuestionAnswering\n",
        "from datasets import load_dataset\n",
        "\n",
        "# Utility libraries\n",
        "from sklearn.model_selection import train_test_split\n",
        "from tqdm.notebook import tqdm #Python library for displaying smart progress bars in loops\n",
        "\n",
        "# Check GPU\n",
        "#Dynamically selects between GPU and CPU, so your code works efficiently and flexibly\n",
        "device = torch.device(\"cuda\" if torch.cuda.is_available() else \"cpu\")\n",
        "print(f\" Using device: {device}\")\n"
      ]
    },
    {
      "cell_type": "markdown",
      "source": [
        "Mount Google drive to load the the trained Model to the Drive"
      ],
      "metadata": {
        "id": "zpSeS6YMQyLr"
      }
    },
    {
      "cell_type": "code",
      "source": [
        "from google.colab import drive\n",
        "drive.mount('/content/drive')\n"
      ],
      "metadata": {
        "id": "Kdk1zlgSM1_A",
        "colab": {
          "base_uri": "https://localhost:8080/"
        },
        "outputId": "6f12d858-4c75-4c59-d7b4-333ea6c0e403"
      },
      "execution_count": null,
      "outputs": [
        {
          "output_type": "stream",
          "name": "stdout",
          "text": [
            "Drive already mounted at /content/drive; to attempt to forcibly remount, call drive.mount(\"/content/drive\", force_remount=True).\n"
          ]
        }
      ]
    },
    {
      "cell_type": "markdown",
      "metadata": {
        "id": "MWuIrSBPBCjJ"
      },
      "source": [
        "# **Load & Inspect SQuAD 2.0 Dataset**\n",
        "Load the dataset from Hugging Face's datasets library\n",
        "\n",
        "View structure and sample records\n",
        "\n",
        "Understand how to handle unanswerable questions (which you wisely pointed out earlier)\n",
        "\n"
      ]
    },
    {
      "cell_type": "code",
      "execution_count": null,
      "metadata": {
        "colab": {
          "base_uri": "https://localhost:8080/",
          "height": 637,
          "referenced_widgets": [
            "0426f1f0d0e24ae58fee191d03df8228",
            "936a0845c95247159da0468160a00f79",
            "c620cc69251242f0a50a8223a531621a",
            "c6dce43379bd4e3db2b9ac4cef27963d",
            "5eeb4d6c895b4936a795121cf2fdcf19",
            "47bb93ed69e446bf8c7e49986b547221",
            "aef0bd30951e45ad8e33fdd5d6bef354",
            "b0abb8a9d09f4c9caf47f12f868c48c3",
            "85d9fff9fc524e0e9de16ae2131a6c19",
            "a1e7a6cfe2524af682e03d5589a286b0",
            "92508571ba244ffa94add07907cdde1c",
            "ec7d71d677d14a2b9798b9e7a4e9e91e",
            "05fc2801664f44ea88b30d8bfb538407",
            "1a3b1672d5754160b5c0a9eaadf66041",
            "5e6b70a8caf34f2f811c6415cdbae0c9",
            "6220aeaa44a949738457796b88705001",
            "644544d9b31e4a8ea0ebd262df1b5612",
            "1cdf15686b7b413cbb557a233681f13d",
            "5b093f0f03ca4fccb649ec569606c13b",
            "ce54e6eb30f44d3a9d335ba280db1696",
            "a3690c83cf054e51be9d5fac563bdae8",
            "2ed919c23cdf4fe0881577e581781fab",
            "07530204a01c44fa90633526ceb5939c",
            "c59f1fcb8f5e4e9d91c56bdb93d5619a",
            "a93853dc25cc491d8691531d14741679",
            "1f013854a2af49aaaf1d2d73a62329b3",
            "07003ce1d4cc4580b5a59c770dca071c",
            "ffab3764e53d496083fde409b755631b",
            "8b2ee5f8e9fa4e1eb3857776af217426",
            "56ddbd68562c4cd88a3f811aa863e251",
            "97da6ad8bdca4be9a41af7f603671dc9",
            "10c6960701f64cb0b820c8563a626765",
            "e4032ab5fa5b4f70af93841f254cbd34",
            "b1e2173cead24327b6ee76267286b6de",
            "cca5b11f45284c3ba46a07b0a7f0e326",
            "b39a89a0dd18405f807b0b3aecc582e8",
            "5a25a5d273ee45cfb0eb3b9772008d02",
            "ff9d252377ad43738edd92650ce82752",
            "7f8af00034d444df8ec716aaccbcb052",
            "6f65efb0ff974ad9a800b115eed1ca05",
            "292c0ad1406e42c3ac4c82076c269e30",
            "4c08cce0fa7c4b1eb7bd912fd8743f64",
            "cdf1e81990a54fbb97e164a0e1793655",
            "8e490e51b36748bf8552de8dd121df64",
            "ab3f540397ae490f96955ec84defdd71",
            "f121dc077d1c4ae7aaa16dc81263bdfe",
            "8723d6f6ba8b4027918759a5c925fc1a",
            "872c1222fb7a47c48a285364936e8e89",
            "d46c5ab8f2584aa392ad7dce71e03eb2",
            "3673ac31eeeb4762a275ae1374130cb7",
            "d1ef45670f024b598fe261a12bc05ffa",
            "4a77d75b399d4405ab3c44e117e68872",
            "d373caccc6584a5bb867610cb149e9de",
            "4980edba63564537ab5ea7d020bc2aca",
            "ce169d7ab5df45dca055062c3da90e6f"
          ]
        },
        "id": "ax7XvgB0ERbU",
        "outputId": "c24019e8-41ef-4e8c-f42f-d92bdb99d645"
      },
      "outputs": [
        {
          "name": "stderr",
          "output_type": "stream",
          "text": [
            "/usr/local/lib/python3.11/dist-packages/huggingface_hub/utils/_auth.py:94: UserWarning: \n",
            "The secret `HF_TOKEN` does not exist in your Colab secrets.\n",
            "To authenticate with the Hugging Face Hub, create a token in your settings tab (https://huggingface.co/settings/tokens), set it as secret in your Google Colab and restart your session.\n",
            "You will be able to reuse this secret in all of your notebooks.\n",
            "Please note that authentication is recommended but still optional to access public models or datasets.\n",
            "  warnings.warn(\n"
          ]
        },
        {
          "data": {
            "application/vnd.jupyter.widget-view+json": {
              "model_id": "0426f1f0d0e24ae58fee191d03df8228",
              "version_major": 2,
              "version_minor": 0
            },
            "text/plain": [
              "README.md:   0%|          | 0.00/8.92k [00:00<?, ?B/s]"
            ]
          },
          "metadata": {},
          "output_type": "display_data"
        },
        {
          "data": {
            "application/vnd.jupyter.widget-view+json": {
              "model_id": "ec7d71d677d14a2b9798b9e7a4e9e91e",
              "version_major": 2,
              "version_minor": 0
            },
            "text/plain": [
              "train-00000-of-00001.parquet:   0%|          | 0.00/16.4M [00:00<?, ?B/s]"
            ]
          },
          "metadata": {},
          "output_type": "display_data"
        },
        {
          "data": {
            "application/vnd.jupyter.widget-view+json": {
              "model_id": "07530204a01c44fa90633526ceb5939c",
              "version_major": 2,
              "version_minor": 0
            },
            "text/plain": [
              "validation-00000-of-00001.parquet:   0%|          | 0.00/1.35M [00:00<?, ?B/s]"
            ]
          },
          "metadata": {},
          "output_type": "display_data"
        },
        {
          "data": {
            "application/vnd.jupyter.widget-view+json": {
              "model_id": "b1e2173cead24327b6ee76267286b6de",
              "version_major": 2,
              "version_minor": 0
            },
            "text/plain": [
              "Generating train split:   0%|          | 0/130319 [00:00<?, ? examples/s]"
            ]
          },
          "metadata": {},
          "output_type": "display_data"
        },
        {
          "data": {
            "application/vnd.jupyter.widget-view+json": {
              "model_id": "ab3f540397ae490f96955ec84defdd71",
              "version_major": 2,
              "version_minor": 0
            },
            "text/plain": [
              "Generating validation split:   0%|          | 0/11873 [00:00<?, ? examples/s]"
            ]
          },
          "metadata": {},
          "output_type": "display_data"
        },
        {
          "name": "stdout",
          "output_type": "stream",
          "text": [
            "Dataset loaded successfully!\n",
            "Train samples: 130319, Validation samples: 11873\n"
          ]
        },
        {
          "data": {
            "application/vnd.google.colaboratory.intrinsic+json": {
              "summary": "{\n  \"name\": \"print(df_train\",\n  \"rows\": 2,\n  \"fields\": [\n    {\n      \"column\": \"id\",\n      \"properties\": {\n        \"dtype\": \"string\",\n        \"num_unique_values\": 2,\n        \"samples\": [\n          \"56be85543aeaaa14008c9065\",\n          \"56be85543aeaaa14008c9063\"\n        ],\n        \"semantic_type\": \"\",\n        \"description\": \"\"\n      }\n    },\n    {\n      \"column\": \"title\",\n      \"properties\": {\n        \"dtype\": \"string\",\n        \"num_unique_values\": 1,\n        \"samples\": [\n          \"Beyonc\\u00e9\"\n        ],\n        \"semantic_type\": \"\",\n        \"description\": \"\"\n      }\n    },\n    {\n      \"column\": \"context\",\n      \"properties\": {\n        \"dtype\": \"string\",\n        \"num_unique_values\": 1,\n        \"samples\": [\n          \"Beyonc\\u00e9 Giselle Knowles-Carter (/bi\\u02d0\\u02c8j\\u0252nse\\u026a/ bee-YON-say) (born September 4, 1981) is an American singer, songwriter, record producer and actress. Born and raised in Houston, Texas, she performed in various singing and dancing competitions as a child, and rose to fame in the late 1990s as lead singer of R&B girl-group Destiny's Child. Managed by her father, Mathew Knowles, the group became one of the world's best-selling girl groups of all time. Their hiatus saw the release of Beyonc\\u00e9's debut album, Dangerously in Love (2003), which established her as a solo artist worldwide, earned five Grammy Awards and featured the Billboard Hot 100 number-one singles \\\"Crazy in Love\\\" and \\\"Baby Boy\\\".\"\n        ],\n        \"semantic_type\": \"\",\n        \"description\": \"\"\n      }\n    },\n    {\n      \"column\": \"question\",\n      \"properties\": {\n        \"dtype\": \"string\",\n        \"num_unique_values\": 2,\n        \"samples\": [\n          \"What areas did Beyonce compete in when she was growing up?\"\n        ],\n        \"semantic_type\": \"\",\n        \"description\": \"\"\n      }\n    },\n    {\n      \"column\": \"answers\",\n      \"properties\": {\n        \"dtype\": \"object\",\n        \"semantic_type\": \"\",\n        \"description\": \"\"\n      }\n    }\n  ]\n}",
              "type": "dataframe"
            },
            "text/html": [
              "\n",
              "  <div id=\"df-a3444727-21a3-44cc-81cc-274618e82d35\" class=\"colab-df-container\">\n",
              "    <div>\n",
              "<style scoped>\n",
              "    .dataframe tbody tr th:only-of-type {\n",
              "        vertical-align: middle;\n",
              "    }\n",
              "\n",
              "    .dataframe tbody tr th {\n",
              "        vertical-align: top;\n",
              "    }\n",
              "\n",
              "    .dataframe thead th {\n",
              "        text-align: right;\n",
              "    }\n",
              "</style>\n",
              "<table border=\"1\" class=\"dataframe\">\n",
              "  <thead>\n",
              "    <tr style=\"text-align: right;\">\n",
              "      <th></th>\n",
              "      <th>id</th>\n",
              "      <th>title</th>\n",
              "      <th>context</th>\n",
              "      <th>question</th>\n",
              "      <th>answers</th>\n",
              "    </tr>\n",
              "  </thead>\n",
              "  <tbody>\n",
              "    <tr>\n",
              "      <th>0</th>\n",
              "      <td>56be85543aeaaa14008c9063</td>\n",
              "      <td>Beyoncé</td>\n",
              "      <td>Beyoncé Giselle Knowles-Carter (/biːˈjɒnseɪ/ b...</td>\n",
              "      <td>When did Beyonce start becoming popular?</td>\n",
              "      <td>{'text': ['in the late 1990s'], 'answer_start'...</td>\n",
              "    </tr>\n",
              "    <tr>\n",
              "      <th>1</th>\n",
              "      <td>56be85543aeaaa14008c9065</td>\n",
              "      <td>Beyoncé</td>\n",
              "      <td>Beyoncé Giselle Knowles-Carter (/biːˈjɒnseɪ/ b...</td>\n",
              "      <td>What areas did Beyonce compete in when she was...</td>\n",
              "      <td>{'text': ['singing and dancing'], 'answer_star...</td>\n",
              "    </tr>\n",
              "  </tbody>\n",
              "</table>\n",
              "</div>\n",
              "    <div class=\"colab-df-buttons\">\n",
              "\n",
              "  <div class=\"colab-df-container\">\n",
              "    <button class=\"colab-df-convert\" onclick=\"convertToInteractive('df-a3444727-21a3-44cc-81cc-274618e82d35')\"\n",
              "            title=\"Convert this dataframe to an interactive table.\"\n",
              "            style=\"display:none;\">\n",
              "\n",
              "  <svg xmlns=\"http://www.w3.org/2000/svg\" height=\"24px\" viewBox=\"0 -960 960 960\">\n",
              "    <path d=\"M120-120v-720h720v720H120Zm60-500h600v-160H180v160Zm220 220h160v-160H400v160Zm0 220h160v-160H400v160ZM180-400h160v-160H180v160Zm440 0h160v-160H620v160ZM180-180h160v-160H180v160Zm440 0h160v-160H620v160Z\"/>\n",
              "  </svg>\n",
              "    </button>\n",
              "\n",
              "  <style>\n",
              "    .colab-df-container {\n",
              "      display:flex;\n",
              "      gap: 12px;\n",
              "    }\n",
              "\n",
              "    .colab-df-convert {\n",
              "      background-color: #E8F0FE;\n",
              "      border: none;\n",
              "      border-radius: 50%;\n",
              "      cursor: pointer;\n",
              "      display: none;\n",
              "      fill: #1967D2;\n",
              "      height: 32px;\n",
              "      padding: 0 0 0 0;\n",
              "      width: 32px;\n",
              "    }\n",
              "\n",
              "    .colab-df-convert:hover {\n",
              "      background-color: #E2EBFA;\n",
              "      box-shadow: 0px 1px 2px rgba(60, 64, 67, 0.3), 0px 1px 3px 1px rgba(60, 64, 67, 0.15);\n",
              "      fill: #174EA6;\n",
              "    }\n",
              "\n",
              "    .colab-df-buttons div {\n",
              "      margin-bottom: 4px;\n",
              "    }\n",
              "\n",
              "    [theme=dark] .colab-df-convert {\n",
              "      background-color: #3B4455;\n",
              "      fill: #D2E3FC;\n",
              "    }\n",
              "\n",
              "    [theme=dark] .colab-df-convert:hover {\n",
              "      background-color: #434B5C;\n",
              "      box-shadow: 0px 1px 3px 1px rgba(0, 0, 0, 0.15);\n",
              "      filter: drop-shadow(0px 1px 2px rgba(0, 0, 0, 0.3));\n",
              "      fill: #FFFFFF;\n",
              "    }\n",
              "  </style>\n",
              "\n",
              "    <script>\n",
              "      const buttonEl =\n",
              "        document.querySelector('#df-a3444727-21a3-44cc-81cc-274618e82d35 button.colab-df-convert');\n",
              "      buttonEl.style.display =\n",
              "        google.colab.kernel.accessAllowed ? 'block' : 'none';\n",
              "\n",
              "      async function convertToInteractive(key) {\n",
              "        const element = document.querySelector('#df-a3444727-21a3-44cc-81cc-274618e82d35');\n",
              "        const dataTable =\n",
              "          await google.colab.kernel.invokeFunction('convertToInteractive',\n",
              "                                                    [key], {});\n",
              "        if (!dataTable) return;\n",
              "\n",
              "        const docLinkHtml = 'Like what you see? Visit the ' +\n",
              "          '<a target=\"_blank\" href=https://colab.research.google.com/notebooks/data_table.ipynb>data table notebook</a>'\n",
              "          + ' to learn more about interactive tables.';\n",
              "        element.innerHTML = '';\n",
              "        dataTable['output_type'] = 'display_data';\n",
              "        await google.colab.output.renderOutput(dataTable, element);\n",
              "        const docLink = document.createElement('div');\n",
              "        docLink.innerHTML = docLinkHtml;\n",
              "        element.appendChild(docLink);\n",
              "      }\n",
              "    </script>\n",
              "  </div>\n",
              "\n",
              "\n",
              "<div id=\"df-e1d769a5-95b8-4c3a-8bcb-4950558bce70\">\n",
              "  <button class=\"colab-df-quickchart\" onclick=\"quickchart('df-e1d769a5-95b8-4c3a-8bcb-4950558bce70')\"\n",
              "            title=\"Suggest charts\"\n",
              "            style=\"display:none;\">\n",
              "\n",
              "<svg xmlns=\"http://www.w3.org/2000/svg\" height=\"24px\"viewBox=\"0 0 24 24\"\n",
              "     width=\"24px\">\n",
              "    <g>\n",
              "        <path d=\"M19 3H5c-1.1 0-2 .9-2 2v14c0 1.1.9 2 2 2h14c1.1 0 2-.9 2-2V5c0-1.1-.9-2-2-2zM9 17H7v-7h2v7zm4 0h-2V7h2v10zm4 0h-2v-4h2v4z\"/>\n",
              "    </g>\n",
              "</svg>\n",
              "  </button>\n",
              "\n",
              "<style>\n",
              "  .colab-df-quickchart {\n",
              "      --bg-color: #E8F0FE;\n",
              "      --fill-color: #1967D2;\n",
              "      --hover-bg-color: #E2EBFA;\n",
              "      --hover-fill-color: #174EA6;\n",
              "      --disabled-fill-color: #AAA;\n",
              "      --disabled-bg-color: #DDD;\n",
              "  }\n",
              "\n",
              "  [theme=dark] .colab-df-quickchart {\n",
              "      --bg-color: #3B4455;\n",
              "      --fill-color: #D2E3FC;\n",
              "      --hover-bg-color: #434B5C;\n",
              "      --hover-fill-color: #FFFFFF;\n",
              "      --disabled-bg-color: #3B4455;\n",
              "      --disabled-fill-color: #666;\n",
              "  }\n",
              "\n",
              "  .colab-df-quickchart {\n",
              "    background-color: var(--bg-color);\n",
              "    border: none;\n",
              "    border-radius: 50%;\n",
              "    cursor: pointer;\n",
              "    display: none;\n",
              "    fill: var(--fill-color);\n",
              "    height: 32px;\n",
              "    padding: 0;\n",
              "    width: 32px;\n",
              "  }\n",
              "\n",
              "  .colab-df-quickchart:hover {\n",
              "    background-color: var(--hover-bg-color);\n",
              "    box-shadow: 0 1px 2px rgba(60, 64, 67, 0.3), 0 1px 3px 1px rgba(60, 64, 67, 0.15);\n",
              "    fill: var(--button-hover-fill-color);\n",
              "  }\n",
              "\n",
              "  .colab-df-quickchart-complete:disabled,\n",
              "  .colab-df-quickchart-complete:disabled:hover {\n",
              "    background-color: var(--disabled-bg-color);\n",
              "    fill: var(--disabled-fill-color);\n",
              "    box-shadow: none;\n",
              "  }\n",
              "\n",
              "  .colab-df-spinner {\n",
              "    border: 2px solid var(--fill-color);\n",
              "    border-color: transparent;\n",
              "    border-bottom-color: var(--fill-color);\n",
              "    animation:\n",
              "      spin 1s steps(1) infinite;\n",
              "  }\n",
              "\n",
              "  @keyframes spin {\n",
              "    0% {\n",
              "      border-color: transparent;\n",
              "      border-bottom-color: var(--fill-color);\n",
              "      border-left-color: var(--fill-color);\n",
              "    }\n",
              "    20% {\n",
              "      border-color: transparent;\n",
              "      border-left-color: var(--fill-color);\n",
              "      border-top-color: var(--fill-color);\n",
              "    }\n",
              "    30% {\n",
              "      border-color: transparent;\n",
              "      border-left-color: var(--fill-color);\n",
              "      border-top-color: var(--fill-color);\n",
              "      border-right-color: var(--fill-color);\n",
              "    }\n",
              "    40% {\n",
              "      border-color: transparent;\n",
              "      border-right-color: var(--fill-color);\n",
              "      border-top-color: var(--fill-color);\n",
              "    }\n",
              "    60% {\n",
              "      border-color: transparent;\n",
              "      border-right-color: var(--fill-color);\n",
              "    }\n",
              "    80% {\n",
              "      border-color: transparent;\n",
              "      border-right-color: var(--fill-color);\n",
              "      border-bottom-color: var(--fill-color);\n",
              "    }\n",
              "    90% {\n",
              "      border-color: transparent;\n",
              "      border-bottom-color: var(--fill-color);\n",
              "    }\n",
              "  }\n",
              "</style>\n",
              "\n",
              "  <script>\n",
              "    async function quickchart(key) {\n",
              "      const quickchartButtonEl =\n",
              "        document.querySelector('#' + key + ' button');\n",
              "      quickchartButtonEl.disabled = true;  // To prevent multiple clicks.\n",
              "      quickchartButtonEl.classList.add('colab-df-spinner');\n",
              "      try {\n",
              "        const charts = await google.colab.kernel.invokeFunction(\n",
              "            'suggestCharts', [key], {});\n",
              "      } catch (error) {\n",
              "        console.error('Error during call to suggestCharts:', error);\n",
              "      }\n",
              "      quickchartButtonEl.classList.remove('colab-df-spinner');\n",
              "      quickchartButtonEl.classList.add('colab-df-quickchart-complete');\n",
              "    }\n",
              "    (() => {\n",
              "      let quickchartButtonEl =\n",
              "        document.querySelector('#df-e1d769a5-95b8-4c3a-8bcb-4950558bce70 button');\n",
              "      quickchartButtonEl.style.display =\n",
              "        google.colab.kernel.accessAllowed ? 'block' : 'none';\n",
              "    })();\n",
              "  </script>\n",
              "</div>\n",
              "\n",
              "    </div>\n",
              "  </div>\n"
            ],
            "text/plain": [
              "                         id    title  \\\n",
              "0  56be85543aeaaa14008c9063  Beyoncé   \n",
              "1  56be85543aeaaa14008c9065  Beyoncé   \n",
              "\n",
              "                                             context  \\\n",
              "0  Beyoncé Giselle Knowles-Carter (/biːˈjɒnseɪ/ b...   \n",
              "1  Beyoncé Giselle Knowles-Carter (/biːˈjɒnseɪ/ b...   \n",
              "\n",
              "                                            question  \\\n",
              "0           When did Beyonce start becoming popular?   \n",
              "1  What areas did Beyonce compete in when she was...   \n",
              "\n",
              "                                             answers  \n",
              "0  {'text': ['in the late 1990s'], 'answer_start'...  \n",
              "1  {'text': ['singing and dancing'], 'answer_star...  "
            ]
          },
          "metadata": {},
          "output_type": "display_data"
        },
        {
          "name": "stdout",
          "output_type": "stream",
          "text": [
            "<class 'pandas.core.frame.DataFrame'>\n",
            "RangeIndex: 130319 entries, 0 to 130318\n",
            "Data columns (total 5 columns):\n",
            " #   Column    Non-Null Count   Dtype \n",
            "---  ------    --------------   ----- \n",
            " 0   id        130319 non-null  object\n",
            " 1   title     130319 non-null  object\n",
            " 2   context   130319 non-null  object\n",
            " 3   question  130319 non-null  object\n",
            " 4   answers   130319 non-null  object\n",
            "dtypes: object(5)\n",
            "memory usage: 5.0+ MB\n",
            "None\n"
          ]
        }
      ],
      "source": [
        "#Load the SQuAD 2.0 dataset (train and validation splits)\n",
        "squad_dataset = load_dataset(\"squad_v2\")\n",
        "\n",
        "#Convert to DataFrame for easier inspection\n",
        "df_train = pd.DataFrame(squad_dataset['train'])\n",
        "df_valid = pd.DataFrame(squad_dataset['validation'])\n",
        "\n",
        "# View shape and sample records\n",
        "print(\"Dataset loaded successfully!\")\n",
        "print(f\"Train samples: {len(df_train)}, Validation samples: {len(df_valid)}\")\n",
        "display(df_train.head(2))  # Display first 2 records for clarity\n",
        "print(df_train.info())"
      ]
    },
    {
      "cell_type": "markdown",
      "metadata": {
        "id": "ijKnuQ7n68qo"
      },
      "source": [
        "# **Data Preprocessing for SQuAD 2.0**\n",
        "Extract the clean answer text (or \"No answer\" if empty)\n",
        "\n",
        "Set answer start and end positions (in character indices)\n",
        "\n",
        "Create the is_impossible flag\n",
        "\n",
        "Prepare these fields as new columns in the DataFrame"
      ]
    },
    {
      "cell_type": "code",
      "execution_count": null,
      "metadata": {
        "colab": {
          "base_uri": "https://localhost:8080/",
          "height": 363
        },
        "id": "pFsyuQzY7LFM",
        "outputId": "9dae93f9-7edd-4080-8752-47587e571f72"
      },
      "outputs": [
        {
          "data": {
            "application/vnd.google.colaboratory.intrinsic+json": {
              "summary": "{\n  \"name\": \"df_train[['context','question', 'clean_answer', 'answer_start', 'answer_end', 'is_impossible']]\",\n  \"rows\": 10,\n  \"fields\": [\n    {\n      \"column\": \"context\",\n      \"properties\": {\n        \"dtype\": \"category\",\n        \"num_unique_values\": 1,\n        \"samples\": [\n          \"Beyonc\\u00e9 Giselle Knowles-Carter (/bi\\u02d0\\u02c8j\\u0252nse\\u026a/ bee-YON-say) (born September 4, 1981) is an American singer, songwriter, record producer and actress. Born and raised in Houston, Texas, she performed in various singing and dancing competitions as a child, and rose to fame in the late 1990s as lead singer of R&B girl-group Destiny's Child. Managed by her father, Mathew Knowles, the group became one of the world's best-selling girl groups of all time. Their hiatus saw the release of Beyonc\\u00e9's debut album, Dangerously in Love (2003), which established her as a solo artist worldwide, earned five Grammy Awards and featured the Billboard Hot 100 number-one singles \\\"Crazy in Love\\\" and \\\"Baby Boy\\\".\"\n        ],\n        \"semantic_type\": \"\",\n        \"description\": \"\"\n      }\n    },\n    {\n      \"column\": \"question\",\n      \"properties\": {\n        \"dtype\": \"string\",\n        \"num_unique_values\": 10,\n        \"samples\": [\n          \"When did Beyonc\\u00e9 rise to fame?\"\n        ],\n        \"semantic_type\": \"\",\n        \"description\": \"\"\n      }\n    },\n    {\n      \"column\": \"clean_answer\",\n      \"properties\": {\n        \"dtype\": \"string\",\n        \"num_unique_values\": 9,\n        \"samples\": [\n          \"Mathew Knowles\"\n        ],\n        \"semantic_type\": \"\",\n        \"description\": \"\"\n      }\n    },\n    {\n      \"column\": \"answer_start\",\n      \"properties\": {\n        \"dtype\": \"number\",\n        \"std\": 116,\n        \"min\": 166,\n        \"max\": 526,\n        \"num_unique_values\": 9,\n        \"samples\": [\n          360\n        ],\n        \"semantic_type\": \"\",\n        \"description\": \"\"\n      }\n    },\n    {\n      \"column\": \"answer_end\",\n      \"properties\": {\n        \"dtype\": \"number\",\n        \"std\": 115,\n        \"min\": 180,\n        \"max\": 530,\n        \"num_unique_values\": 8,\n        \"samples\": [\n          226\n        ],\n        \"semantic_type\": \"\",\n        \"description\": \"\"\n      }\n    },\n    {\n      \"column\": \"is_impossible\",\n      \"properties\": {\n        \"dtype\": \"boolean\",\n        \"num_unique_values\": 1,\n        \"samples\": [\n          false\n        ],\n        \"semantic_type\": \"\",\n        \"description\": \"\"\n      }\n    }\n  ]\n}",
              "type": "dataframe"
            },
            "text/html": [
              "\n",
              "  <div id=\"df-ad872ecb-9771-4027-8939-bbeec733516c\" class=\"colab-df-container\">\n",
              "    <div>\n",
              "<style scoped>\n",
              "    .dataframe tbody tr th:only-of-type {\n",
              "        vertical-align: middle;\n",
              "    }\n",
              "\n",
              "    .dataframe tbody tr th {\n",
              "        vertical-align: top;\n",
              "    }\n",
              "\n",
              "    .dataframe thead th {\n",
              "        text-align: right;\n",
              "    }\n",
              "</style>\n",
              "<table border=\"1\" class=\"dataframe\">\n",
              "  <thead>\n",
              "    <tr style=\"text-align: right;\">\n",
              "      <th></th>\n",
              "      <th>context</th>\n",
              "      <th>question</th>\n",
              "      <th>clean_answer</th>\n",
              "      <th>answer_start</th>\n",
              "      <th>answer_end</th>\n",
              "      <th>is_impossible</th>\n",
              "    </tr>\n",
              "  </thead>\n",
              "  <tbody>\n",
              "    <tr>\n",
              "      <th>0</th>\n",
              "      <td>Beyoncé Giselle Knowles-Carter (/biːˈjɒnseɪ/ b...</td>\n",
              "      <td>When did Beyonce start becoming popular?</td>\n",
              "      <td>in the late 1990s</td>\n",
              "      <td>269</td>\n",
              "      <td>286</td>\n",
              "      <td>False</td>\n",
              "    </tr>\n",
              "    <tr>\n",
              "      <th>1</th>\n",
              "      <td>Beyoncé Giselle Knowles-Carter (/biːˈjɒnseɪ/ b...</td>\n",
              "      <td>What areas did Beyonce compete in when she was...</td>\n",
              "      <td>singing and dancing</td>\n",
              "      <td>207</td>\n",
              "      <td>226</td>\n",
              "      <td>False</td>\n",
              "    </tr>\n",
              "    <tr>\n",
              "      <th>2</th>\n",
              "      <td>Beyoncé Giselle Knowles-Carter (/biːˈjɒnseɪ/ b...</td>\n",
              "      <td>When did Beyonce leave Destiny's Child and bec...</td>\n",
              "      <td>2003</td>\n",
              "      <td>526</td>\n",
              "      <td>530</td>\n",
              "      <td>False</td>\n",
              "    </tr>\n",
              "    <tr>\n",
              "      <th>3</th>\n",
              "      <td>Beyoncé Giselle Knowles-Carter (/biːˈjɒnseɪ/ b...</td>\n",
              "      <td>In what city and state did Beyonce  grow up?</td>\n",
              "      <td>Houston, Texas</td>\n",
              "      <td>166</td>\n",
              "      <td>180</td>\n",
              "      <td>False</td>\n",
              "    </tr>\n",
              "    <tr>\n",
              "      <th>4</th>\n",
              "      <td>Beyoncé Giselle Knowles-Carter (/biːˈjɒnseɪ/ b...</td>\n",
              "      <td>In which decade did Beyonce become famous?</td>\n",
              "      <td>late 1990s</td>\n",
              "      <td>276</td>\n",
              "      <td>286</td>\n",
              "      <td>False</td>\n",
              "    </tr>\n",
              "    <tr>\n",
              "      <th>5</th>\n",
              "      <td>Beyoncé Giselle Knowles-Carter (/biːˈjɒnseɪ/ b...</td>\n",
              "      <td>In what R&amp;B group was she the lead singer?</td>\n",
              "      <td>Destiny's Child</td>\n",
              "      <td>320</td>\n",
              "      <td>335</td>\n",
              "      <td>False</td>\n",
              "    </tr>\n",
              "    <tr>\n",
              "      <th>6</th>\n",
              "      <td>Beyoncé Giselle Knowles-Carter (/biːˈjɒnseɪ/ b...</td>\n",
              "      <td>What album made her a worldwide known artist?</td>\n",
              "      <td>Dangerously in Love</td>\n",
              "      <td>505</td>\n",
              "      <td>524</td>\n",
              "      <td>False</td>\n",
              "    </tr>\n",
              "    <tr>\n",
              "      <th>7</th>\n",
              "      <td>Beyoncé Giselle Knowles-Carter (/biːˈjɒnseɪ/ b...</td>\n",
              "      <td>Who managed the Destiny's Child group?</td>\n",
              "      <td>Mathew Knowles</td>\n",
              "      <td>360</td>\n",
              "      <td>374</td>\n",
              "      <td>False</td>\n",
              "    </tr>\n",
              "    <tr>\n",
              "      <th>8</th>\n",
              "      <td>Beyoncé Giselle Knowles-Carter (/biːˈjɒnseɪ/ b...</td>\n",
              "      <td>When did Beyoncé rise to fame?</td>\n",
              "      <td>late 1990s</td>\n",
              "      <td>276</td>\n",
              "      <td>286</td>\n",
              "      <td>False</td>\n",
              "    </tr>\n",
              "    <tr>\n",
              "      <th>9</th>\n",
              "      <td>Beyoncé Giselle Knowles-Carter (/biːˈjɒnseɪ/ b...</td>\n",
              "      <td>What role did Beyoncé have in Destiny's Child?</td>\n",
              "      <td>lead singer</td>\n",
              "      <td>290</td>\n",
              "      <td>301</td>\n",
              "      <td>False</td>\n",
              "    </tr>\n",
              "  </tbody>\n",
              "</table>\n",
              "</div>\n",
              "    <div class=\"colab-df-buttons\">\n",
              "\n",
              "  <div class=\"colab-df-container\">\n",
              "    <button class=\"colab-df-convert\" onclick=\"convertToInteractive('df-ad872ecb-9771-4027-8939-bbeec733516c')\"\n",
              "            title=\"Convert this dataframe to an interactive table.\"\n",
              "            style=\"display:none;\">\n",
              "\n",
              "  <svg xmlns=\"http://www.w3.org/2000/svg\" height=\"24px\" viewBox=\"0 -960 960 960\">\n",
              "    <path d=\"M120-120v-720h720v720H120Zm60-500h600v-160H180v160Zm220 220h160v-160H400v160Zm0 220h160v-160H400v160ZM180-400h160v-160H180v160Zm440 0h160v-160H620v160ZM180-180h160v-160H180v160Zm440 0h160v-160H620v160Z\"/>\n",
              "  </svg>\n",
              "    </button>\n",
              "\n",
              "  <style>\n",
              "    .colab-df-container {\n",
              "      display:flex;\n",
              "      gap: 12px;\n",
              "    }\n",
              "\n",
              "    .colab-df-convert {\n",
              "      background-color: #E8F0FE;\n",
              "      border: none;\n",
              "      border-radius: 50%;\n",
              "      cursor: pointer;\n",
              "      display: none;\n",
              "      fill: #1967D2;\n",
              "      height: 32px;\n",
              "      padding: 0 0 0 0;\n",
              "      width: 32px;\n",
              "    }\n",
              "\n",
              "    .colab-df-convert:hover {\n",
              "      background-color: #E2EBFA;\n",
              "      box-shadow: 0px 1px 2px rgba(60, 64, 67, 0.3), 0px 1px 3px 1px rgba(60, 64, 67, 0.15);\n",
              "      fill: #174EA6;\n",
              "    }\n",
              "\n",
              "    .colab-df-buttons div {\n",
              "      margin-bottom: 4px;\n",
              "    }\n",
              "\n",
              "    [theme=dark] .colab-df-convert {\n",
              "      background-color: #3B4455;\n",
              "      fill: #D2E3FC;\n",
              "    }\n",
              "\n",
              "    [theme=dark] .colab-df-convert:hover {\n",
              "      background-color: #434B5C;\n",
              "      box-shadow: 0px 1px 3px 1px rgba(0, 0, 0, 0.15);\n",
              "      filter: drop-shadow(0px 1px 2px rgba(0, 0, 0, 0.3));\n",
              "      fill: #FFFFFF;\n",
              "    }\n",
              "  </style>\n",
              "\n",
              "    <script>\n",
              "      const buttonEl =\n",
              "        document.querySelector('#df-ad872ecb-9771-4027-8939-bbeec733516c button.colab-df-convert');\n",
              "      buttonEl.style.display =\n",
              "        google.colab.kernel.accessAllowed ? 'block' : 'none';\n",
              "\n",
              "      async function convertToInteractive(key) {\n",
              "        const element = document.querySelector('#df-ad872ecb-9771-4027-8939-bbeec733516c');\n",
              "        const dataTable =\n",
              "          await google.colab.kernel.invokeFunction('convertToInteractive',\n",
              "                                                    [key], {});\n",
              "        if (!dataTable) return;\n",
              "\n",
              "        const docLinkHtml = 'Like what you see? Visit the ' +\n",
              "          '<a target=\"_blank\" href=https://colab.research.google.com/notebooks/data_table.ipynb>data table notebook</a>'\n",
              "          + ' to learn more about interactive tables.';\n",
              "        element.innerHTML = '';\n",
              "        dataTable['output_type'] = 'display_data';\n",
              "        await google.colab.output.renderOutput(dataTable, element);\n",
              "        const docLink = document.createElement('div');\n",
              "        docLink.innerHTML = docLinkHtml;\n",
              "        element.appendChild(docLink);\n",
              "      }\n",
              "    </script>\n",
              "  </div>\n",
              "\n",
              "\n",
              "<div id=\"df-6e69de7d-2224-4749-8951-1f28329e1aec\">\n",
              "  <button class=\"colab-df-quickchart\" onclick=\"quickchart('df-6e69de7d-2224-4749-8951-1f28329e1aec')\"\n",
              "            title=\"Suggest charts\"\n",
              "            style=\"display:none;\">\n",
              "\n",
              "<svg xmlns=\"http://www.w3.org/2000/svg\" height=\"24px\"viewBox=\"0 0 24 24\"\n",
              "     width=\"24px\">\n",
              "    <g>\n",
              "        <path d=\"M19 3H5c-1.1 0-2 .9-2 2v14c0 1.1.9 2 2 2h14c1.1 0 2-.9 2-2V5c0-1.1-.9-2-2-2zM9 17H7v-7h2v7zm4 0h-2V7h2v10zm4 0h-2v-4h2v4z\"/>\n",
              "    </g>\n",
              "</svg>\n",
              "  </button>\n",
              "\n",
              "<style>\n",
              "  .colab-df-quickchart {\n",
              "      --bg-color: #E8F0FE;\n",
              "      --fill-color: #1967D2;\n",
              "      --hover-bg-color: #E2EBFA;\n",
              "      --hover-fill-color: #174EA6;\n",
              "      --disabled-fill-color: #AAA;\n",
              "      --disabled-bg-color: #DDD;\n",
              "  }\n",
              "\n",
              "  [theme=dark] .colab-df-quickchart {\n",
              "      --bg-color: #3B4455;\n",
              "      --fill-color: #D2E3FC;\n",
              "      --hover-bg-color: #434B5C;\n",
              "      --hover-fill-color: #FFFFFF;\n",
              "      --disabled-bg-color: #3B4455;\n",
              "      --disabled-fill-color: #666;\n",
              "  }\n",
              "\n",
              "  .colab-df-quickchart {\n",
              "    background-color: var(--bg-color);\n",
              "    border: none;\n",
              "    border-radius: 50%;\n",
              "    cursor: pointer;\n",
              "    display: none;\n",
              "    fill: var(--fill-color);\n",
              "    height: 32px;\n",
              "    padding: 0;\n",
              "    width: 32px;\n",
              "  }\n",
              "\n",
              "  .colab-df-quickchart:hover {\n",
              "    background-color: var(--hover-bg-color);\n",
              "    box-shadow: 0 1px 2px rgba(60, 64, 67, 0.3), 0 1px 3px 1px rgba(60, 64, 67, 0.15);\n",
              "    fill: var(--button-hover-fill-color);\n",
              "  }\n",
              "\n",
              "  .colab-df-quickchart-complete:disabled,\n",
              "  .colab-df-quickchart-complete:disabled:hover {\n",
              "    background-color: var(--disabled-bg-color);\n",
              "    fill: var(--disabled-fill-color);\n",
              "    box-shadow: none;\n",
              "  }\n",
              "\n",
              "  .colab-df-spinner {\n",
              "    border: 2px solid var(--fill-color);\n",
              "    border-color: transparent;\n",
              "    border-bottom-color: var(--fill-color);\n",
              "    animation:\n",
              "      spin 1s steps(1) infinite;\n",
              "  }\n",
              "\n",
              "  @keyframes spin {\n",
              "    0% {\n",
              "      border-color: transparent;\n",
              "      border-bottom-color: var(--fill-color);\n",
              "      border-left-color: var(--fill-color);\n",
              "    }\n",
              "    20% {\n",
              "      border-color: transparent;\n",
              "      border-left-color: var(--fill-color);\n",
              "      border-top-color: var(--fill-color);\n",
              "    }\n",
              "    30% {\n",
              "      border-color: transparent;\n",
              "      border-left-color: var(--fill-color);\n",
              "      border-top-color: var(--fill-color);\n",
              "      border-right-color: var(--fill-color);\n",
              "    }\n",
              "    40% {\n",
              "      border-color: transparent;\n",
              "      border-right-color: var(--fill-color);\n",
              "      border-top-color: var(--fill-color);\n",
              "    }\n",
              "    60% {\n",
              "      border-color: transparent;\n",
              "      border-right-color: var(--fill-color);\n",
              "    }\n",
              "    80% {\n",
              "      border-color: transparent;\n",
              "      border-right-color: var(--fill-color);\n",
              "      border-bottom-color: var(--fill-color);\n",
              "    }\n",
              "    90% {\n",
              "      border-color: transparent;\n",
              "      border-bottom-color: var(--fill-color);\n",
              "    }\n",
              "  }\n",
              "</style>\n",
              "\n",
              "  <script>\n",
              "    async function quickchart(key) {\n",
              "      const quickchartButtonEl =\n",
              "        document.querySelector('#' + key + ' button');\n",
              "      quickchartButtonEl.disabled = true;  // To prevent multiple clicks.\n",
              "      quickchartButtonEl.classList.add('colab-df-spinner');\n",
              "      try {\n",
              "        const charts = await google.colab.kernel.invokeFunction(\n",
              "            'suggestCharts', [key], {});\n",
              "      } catch (error) {\n",
              "        console.error('Error during call to suggestCharts:', error);\n",
              "      }\n",
              "      quickchartButtonEl.classList.remove('colab-df-spinner');\n",
              "      quickchartButtonEl.classList.add('colab-df-quickchart-complete');\n",
              "    }\n",
              "    (() => {\n",
              "      let quickchartButtonEl =\n",
              "        document.querySelector('#df-6e69de7d-2224-4749-8951-1f28329e1aec button');\n",
              "      quickchartButtonEl.style.display =\n",
              "        google.colab.kernel.accessAllowed ? 'block' : 'none';\n",
              "    })();\n",
              "  </script>\n",
              "</div>\n",
              "\n",
              "    </div>\n",
              "  </div>\n"
            ],
            "text/plain": [
              "                                             context  \\\n",
              "0  Beyoncé Giselle Knowles-Carter (/biːˈjɒnseɪ/ b...   \n",
              "1  Beyoncé Giselle Knowles-Carter (/biːˈjɒnseɪ/ b...   \n",
              "2  Beyoncé Giselle Knowles-Carter (/biːˈjɒnseɪ/ b...   \n",
              "3  Beyoncé Giselle Knowles-Carter (/biːˈjɒnseɪ/ b...   \n",
              "4  Beyoncé Giselle Knowles-Carter (/biːˈjɒnseɪ/ b...   \n",
              "5  Beyoncé Giselle Knowles-Carter (/biːˈjɒnseɪ/ b...   \n",
              "6  Beyoncé Giselle Knowles-Carter (/biːˈjɒnseɪ/ b...   \n",
              "7  Beyoncé Giselle Knowles-Carter (/biːˈjɒnseɪ/ b...   \n",
              "8  Beyoncé Giselle Knowles-Carter (/biːˈjɒnseɪ/ b...   \n",
              "9  Beyoncé Giselle Knowles-Carter (/biːˈjɒnseɪ/ b...   \n",
              "\n",
              "                                            question         clean_answer  \\\n",
              "0           When did Beyonce start becoming popular?    in the late 1990s   \n",
              "1  What areas did Beyonce compete in when she was...  singing and dancing   \n",
              "2  When did Beyonce leave Destiny's Child and bec...                 2003   \n",
              "3      In what city and state did Beyonce  grow up?        Houston, Texas   \n",
              "4         In which decade did Beyonce become famous?           late 1990s   \n",
              "5         In what R&B group was she the lead singer?      Destiny's Child   \n",
              "6      What album made her a worldwide known artist?  Dangerously in Love   \n",
              "7             Who managed the Destiny's Child group?       Mathew Knowles   \n",
              "8                     When did Beyoncé rise to fame?           late 1990s   \n",
              "9     What role did Beyoncé have in Destiny's Child?          lead singer   \n",
              "\n",
              "   answer_start  answer_end  is_impossible  \n",
              "0           269         286          False  \n",
              "1           207         226          False  \n",
              "2           526         530          False  \n",
              "3           166         180          False  \n",
              "4           276         286          False  \n",
              "5           320         335          False  \n",
              "6           505         524          False  \n",
              "7           360         374          False  \n",
              "8           276         286          False  \n",
              "9           290         301          False  "
            ]
          },
          "execution_count": 3,
          "metadata": {},
          "output_type": "execute_result"
        }
      ],
      "source": [
        "#Step 1: Define a function to extract clean fields\n",
        "def preprocess_squad_df(df):\n",
        "    clean_answers = []\n",
        "    start_positions = []\n",
        "    end_positions = []\n",
        "    impossible_flags = []\n",
        "\n",
        "    for idx, row in df.iterrows():\n",
        "        answers = row['answers']\n",
        "\n",
        "        if answers['text']:\n",
        "            clean_answer = answers['text'][0]\n",
        "            start = answers['answer_start'][0]\n",
        "            end = start + len(clean_answer)\n",
        "            is_impossible = False\n",
        "        else:\n",
        "            clean_answer = \"No answer\"\n",
        "            start = 0\n",
        "            end = 0\n",
        "            is_impossible = True\n",
        "\n",
        "        clean_answers.append(clean_answer)\n",
        "        start_positions.append(start)\n",
        "        end_positions.append(end)\n",
        "        impossible_flags.append(is_impossible)\n",
        "\n",
        "    df['clean_answer'] = clean_answers\n",
        "    df['answer_start'] = start_positions\n",
        "    df['answer_end'] = end_positions\n",
        "    df['is_impossible'] = impossible_flags\n",
        "\n",
        "    return df\n",
        "\n",
        "'''# Step 2: Apply to both train and validation datasets\n",
        "df_train = pd.DataFrame(squad_dataset['train'])\n",
        "df_valid = pd.DataFrame(squad_dataset['validation'])'''\n",
        "\n",
        "df_train = preprocess_squad_df(df_train)\n",
        "df_valid = preprocess_squad_df(df_valid)\n",
        "\n",
        "#  Step 3: Inspect the new structure\n",
        "df_train[['context','question', 'clean_answer', 'answer_start', 'answer_end', 'is_impossible']].head(10)\n"
      ]
    },
    {
      "cell_type": "markdown",
      "metadata": {
        "id": "VnD_H9d1EmTi"
      },
      "source": [
        "# **Exploratory Data Analysis (EDA)**\n",
        "Answerable vs. Unanswerable Distribution\n",
        "\n",
        "Sequence Length Stats (Max, 95th Percentile\n",
        "\n",
        "Visuals:\n",
        "\n",
        "Question length distribution\n",
        "\n",
        "Context word count distribution\n",
        "\n",
        "Questions per article title"
      ]
    },
    {
      "cell_type": "code",
      "execution_count": null,
      "metadata": {
        "colab": {
          "base_uri": "https://localhost:8080/",
          "height": 1000,
          "referenced_widgets": [
            "ba48950ef60e4358b0ea7d5b511731f9",
            "b894b66218d0485ba7451c826b31049a",
            "2a8e7d8edc8d45618d0de737b4e3fdd5",
            "242baa41cd13433eb838406ded0dd677",
            "d11e6c28c0a548c297ae3208d64bc6c1",
            "240948894c824cd1a739ad48cf6b3885",
            "25ad0c22a4c947abaee9b006bf174737",
            "f5be519724a549a5b55926807a831b5b",
            "af0ad40ba4144804ba47811b67aeb597",
            "10edf11338ba467687c2024c5279061b",
            "87647a2429c4449f9f0f74c8540493c0",
            "c31f1e6f584849f7b830883c598c9ebf",
            "0a6c89204fe545d9bb288883de28fb8e",
            "c6ff23fb3ae44376a94c18af1ff733f7",
            "c54dde2cf32c48c2b5da847dbe2f9504",
            "80ac803d08304c2ea77a0cf02e1245e5",
            "9cbbf447bae940f2a3863950b2c48050",
            "3938127cf8904c2d8bc3e7f1eff937b0",
            "5a7ef42bfd1a44259c1c05c6f8aa4362",
            "9e15622aa693403c8bba6f648dd1bc63",
            "2db76f3412504da48077fd67f61eee9d",
            "575b380af83c4311b3606910278fbf2a",
            "08abdaf0fe46462cb81ee6b2859e4bae",
            "f7ed78a2d91740149aefe547ea353d2e",
            "f5e8c705130f4284b675d096057d8cb2",
            "ce177a79253a46d99e42aac7f0c645a6",
            "52e9db1d9d764d1ebef47d1076a1f122",
            "2bed29ba05fb4d1184e8ac2be18d46fb",
            "e400e1dfea5544108372e3146165d5ca",
            "cb31edb1546d4b3895940b7feeab095f",
            "4f9b56d7507748e6bb9a78f6b2f12bd0",
            "200b03301cd04148b750054761dbd650",
            "e9e20e3d0c4749778afc8a83f371a20e",
            "96766835d8314475b76636eb458e3b6c",
            "b576c44a2a194c85b39637febc01edd3",
            "6d93899d91f04a62ab19311fa7504265",
            "27c8d5b9f5ec4ea2b6c1fc514aa68f04",
            "0d62b45e22454e8ca76a838c8fa9953b",
            "62a03c81f54642f0a6adb948558d4fcd",
            "eb229a09c9e1476fa8119bff37a2e06d",
            "2ab738f04c59484eaa9febe603824c1d",
            "173715563af54a4eba38a4b2c178b94b",
            "9f96026e3ad34520b7916daec2f97561",
            "c443e704aff040ff944f40001df5b36f"
          ]
        },
        "id": "WpOFIU-1E27a",
        "outputId": "c0bf0b9a-d679-4d8e-d02d-30f1fe8da4ed"
      },
      "outputs": [
        {
          "data": {
            "application/vnd.jupyter.widget-view+json": {
              "model_id": "ba48950ef60e4358b0ea7d5b511731f9",
              "version_major": 2,
              "version_minor": 0
            },
            "text/plain": [
              "tokenizer_config.json:   0%|          | 0.00/48.0 [00:00<?, ?B/s]"
            ]
          },
          "metadata": {},
          "output_type": "display_data"
        },
        {
          "data": {
            "application/vnd.jupyter.widget-view+json": {
              "model_id": "c31f1e6f584849f7b830883c598c9ebf",
              "version_major": 2,
              "version_minor": 0
            },
            "text/plain": [
              "vocab.txt:   0%|          | 0.00/232k [00:00<?, ?B/s]"
            ]
          },
          "metadata": {},
          "output_type": "display_data"
        },
        {
          "data": {
            "application/vnd.jupyter.widget-view+json": {
              "model_id": "08abdaf0fe46462cb81ee6b2859e4bae",
              "version_major": 2,
              "version_minor": 0
            },
            "text/plain": [
              "tokenizer.json:   0%|          | 0.00/466k [00:00<?, ?B/s]"
            ]
          },
          "metadata": {},
          "output_type": "display_data"
        },
        {
          "data": {
            "application/vnd.jupyter.widget-view+json": {
              "model_id": "96766835d8314475b76636eb458e3b6c",
              "version_major": 2,
              "version_minor": 0
            },
            "text/plain": [
              "config.json:   0%|          | 0.00/570 [00:00<?, ?B/s]"
            ]
          },
          "metadata": {},
          "output_type": "display_data"
        },
        {
          "name": "stderr",
          "output_type": "stream",
          "text": [
            "<ipython-input-4-91b1de732ba0>:15: FutureWarning: \n",
            "\n",
            "Passing `palette` without assigning `hue` is deprecated and will be removed in v0.14.0. Assign the `x` variable to `hue` and set `legend=False` for the same effect.\n",
            "\n",
            "  sns.barplot(x=answerable_counts.index.map({True: 'Answerable', False: 'Unanswerable'}),\n"
          ]
        },
        {
          "data": {
            "image/png": "[encoded data removed]",
            "text/plain": [
              "<Figure size 600x400 with 1 Axes>"
            ]
          },
          "metadata": {},
          "output_type": "display_data"
        },
        {
          "name": "stdout",
          "output_type": "stream",
          "text": [
            " Answerable distribution:\n",
            "answerable\n",
            "True     86821\n",
            "False    43498\n",
            "Name: count, dtype: int64\n"
          ]
        },
        {
          "data": {
            "image/png": "[encoded data removed]",
            "text/plain": [
              "<Figure size 800x500 with 1 Axes>"
            ]
          },
          "metadata": {},
          "output_type": "display_data"
        },
        {
          "name": "stdout",
          "output_type": "stream",
          "text": [
            "Max input length: 512\n",
            " 95th percentile length: 292\n"
          ]
        },
        {
          "data": {
            "image/png": "[encoded data removed]",
            "text/plain": [
              "<Figure size 800x400 with 1 Axes>"
            ]
          },
          "metadata": {},
          "output_type": "display_data"
        },
        {
          "data": {
            "image/png": "[encoded data removed]",
            "text/plain": [
              "<Figure size 800x400 with 1 Axes>"
            ]
          },
          "metadata": {},
          "output_type": "display_data"
        },
        {
          "name": "stderr",
          "output_type": "stream",
          "text": [
            "<ipython-input-4-91b1de732ba0>:84: FutureWarning: \n",
            "\n",
            "Passing `palette` without assigning `hue` is deprecated and will be removed in v0.14.0. Assign the `y` variable to `hue` and set `legend=False` for the same effect.\n",
            "\n",
            "  sns.barplot(y=title_counts.index, x=title_counts.values, palette=\"crest\")\n"
          ]
        },
        {
          "data": {
            "image/png": "[encoded data removed]",
            "text/plain": [
              "<Figure size 1000x500 with 1 Axes>"
            ]
          },
          "metadata": {},
          "output_type": "display_data"
        }
      ],
      "source": [
        "import matplotlib.pyplot as plt\n",
        "import seaborn as sns\n",
        "from transformers import BertTokenizerFast\n",
        "\n",
        "# Use Fast tokenizer for accurate token alignment\n",
        "tokenizer = BertTokenizerFast.from_pretrained(\"bert-base-uncased\")\n",
        "\n",
        "# =====================\n",
        "# 2B.1 - Answerable vs. Unanswerable\n",
        "# =====================\n",
        "df_train['answerable'] = ~df_train['is_impossible']\n",
        "answerable_counts = df_train['answerable'].value_counts()\n",
        "\n",
        "plt.figure(figsize=(6, 4))\n",
        "sns.barplot(x=answerable_counts.index.map({True: 'Answerable', False: 'Unanswerable'}),\n",
        "            y=answerable_counts.values, palette=\"viridis\")\n",
        "plt.title(\"Answerable vs. Unanswerable Questions (Training Set)\")\n",
        "plt.ylabel(\"Number of Questions\")\n",
        "plt.xlabel(\"Question Type\")\n",
        "plt.grid(True)\n",
        "plt.tight_layout()\n",
        "plt.show()\n",
        "\n",
        "print(\" Answerable distribution:\")\n",
        "print(answerable_counts)\n",
        "\n",
        "# =====================\n",
        "#  2B.2 - Sequence Length Distribution\n",
        "# =====================\n",
        "# Compute input lengths after tokenizing (question + context)\n",
        "def compute_input_length(row):\n",
        "    encoded = tokenizer(\n",
        "        row['question'], row['context'],\n",
        "        truncation=True, max_length=512, padding=False,\n",
        "        return_tensors=None\n",
        "    )\n",
        "    return len(encoded['input_ids'])\n",
        "\n",
        "df_train['input_length'] = df_train.apply(compute_input_length, axis=1)\n",
        "\n",
        "# Plot histogram of input lengths\n",
        "plt.figure(figsize=(8, 5))\n",
        "sns.histplot(df_train['input_length'], bins=50, kde=True, color='teal')\n",
        "plt.axvline(df_train['input_length'].quantile(0.95), color='red', linestyle='--', label='95th Percentile')\n",
        "plt.axvline(df_train['input_length'].max(), color='black', linestyle='--', label='Max Length')\n",
        "plt.title(\"Tokenized Input Lengths (question + context)\")\n",
        "plt.xlabel(\"Number of Tokens\")\n",
        "plt.ylabel(\"Frequency\")\n",
        "plt.legend()\n",
        "plt.tight_layout()\n",
        "plt.grid(True)\n",
        "plt.show()\n",
        "\n",
        "print(\"Max input length:\", df_train['input_length'].max())\n",
        "print(\" 95th percentile length:\", int(df_train['input_length'].quantile(0.95)))\n",
        "\n",
        "# =====================\n",
        "#  2B.3 - Optional Visuals\n",
        "# =====================\n",
        "\n",
        "# (a) Question length\n",
        "df_train['question_length'] = df_train['question'].apply(lambda x: len(x.split()))\n",
        "plt.figure(figsize=(8, 4))\n",
        "sns.histplot(df_train['question_length'], bins=30, kde=True, color='navy')\n",
        "plt.title(\"Question Length (in words)\")\n",
        "plt.xlabel(\"Words in Question\")\n",
        "plt.tight_layout()\n",
        "plt.grid(True)\n",
        "plt.show()\n",
        "\n",
        "# (b) Context length\n",
        "df_train['context_length'] = df_train['context'].apply(lambda x: len(x.split()))\n",
        "plt.figure(figsize=(8, 4))\n",
        "sns.histplot(df_train['context_length'], bins=30, kde=True, color='darkgreen')\n",
        "plt.title(\"Context Length (in words)\")\n",
        "plt.xlabel(\"Words in Context\")\n",
        "plt.tight_layout()\n",
        "plt.grid(True)\n",
        "plt.show()\n",
        "\n",
        "# (c) Questions per Article Title\n",
        "title_counts = df_train['title'].value_counts().head(20)\n",
        "plt.figure(figsize=(10, 5))\n",
        "sns.barplot(y=title_counts.index, x=title_counts.values, palette=\"crest\")\n",
        "plt.title(\"Top 20 Article Titles by Number of Questions\")\n",
        "plt.xlabel(\"Number of Questions\")\n",
        "plt.ylabel(\"Article Title\")\n",
        "plt.tight_layout()\n",
        "plt.grid(True)\n",
        "plt.show()\n"
      ]
    },
    {
      "cell_type": "markdown",
      "metadata": {
        "id": "EfgM87pRvjr4"
      },
      "source": [
        "# **Split df_train into two sets**\n",
        "df_train_final → 80% of original training (used for training)\n",
        "\n",
        "df_val_final → 20% of original training (used for validation during training)\n",
        "\n",
        "df_valid → untouched original validation set from SQuAD (used only for final evaluation)\n",
        "\n",
        "\n"
      ]
    },
    {
      "cell_type": "code",
      "execution_count": null,
      "metadata": {
        "colab": {
          "base_uri": "https://localhost:8080/"
        },
        "id": "vMzUwRR4vzpf",
        "outputId": "28934c8e-ffc4-4d31-fa01-0ecd746afeb9"
      },
      "outputs": [
        {
          "name": "stdout",
          "output_type": "stream",
          "text": [
            "Training samples: 104255\n",
            " Validation samples: 26064\n",
            "📌External Test samples (SQuAD val): 11873\n"
          ]
        }
      ],
      "source": [
        "from sklearn.model_selection import train_test_split\n",
        "\n",
        "# ⚙️ 80/20 Split of original training set\n",
        "df_train_final, df_val_final = train_test_split(\n",
        "    df_train, test_size=0.2, random_state=42, stratify=df_train[\"is_impossible\"]\n",
        ")\n",
        "\n",
        "print(f\"Training samples: {len(df_train_final)}\")\n",
        "print(f\" Validation samples: {len(df_val_final)}\")\n",
        "print(f\"External Test samples (SQuAD val): {len(df_valid)}\")\n"
      ]
    },
    {
      "cell_type": "markdown",
      "metadata": {
        "id": "9UuWEfRQN1dq"
      },
      "source": [
        "# **Tokenize and Align QA Data**\n",
        "Tokenize each (question, context) pair using BertTokenizerFast\n",
        "\n",
        "Convert answer_start (character index) to token-level indices\n",
        "\n",
        "Handle special cases (unanswerable questions with \"No answer\")"
      ]
    },
    {
      "cell_type": "code",
      "execution_count": null,
      "metadata": {
        "colab": {
          "base_uri": "https://localhost:8080/",
          "height": 165,
          "referenced_widgets": [
            "2ab26a1568b2488599f1dfa2231caa61",
            "dcb06ca821124a65b74203a4f57aba4f",
            "3efd69c371614320a6c14e9a20d6ffdf",
            "699c075c28b74681bcf41f4296db65a7",
            "18ba9a0fa4974e309cf54b0152253dc3",
            "5d77f8c9afc94c1988d271d3c0494c9d",
            "39c9964472bb4160b5eb098ab9472e02",
            "be8bedcf014f4d739a60272bc34fe5e6",
            "f90f3e44d8e4498699180c8f0aff7aab",
            "ceb4e5fe88454b2793828c09be4c74da",
            "7c05ee9d92eb498ca093ab7f4465a008",
            "518021a748ce433e9fb28a1520aa8578",
            "750918cecb56463a91f3c77e741bf709",
            "ea744866e82f4d8e8de35cee536c59a3",
            "19c4de77f09347feb6110a3fc0544367",
            "df94d06c1e014157a789036cfc0c2855",
            "23863bc10b9a48a6a9760a73daad11dc",
            "a7e08480bd874366b7696a9b484b7d2a",
            "d7a2f7c8e05e4d448f721850fb168f0e",
            "3e98fc242ee2462b86da3cbd30d423bd",
            "3c1e91b9206e49b2ac8acd3a2ae47f09",
            "ead6a693c23a409a8857f4dc70234f9c",
            "87d810e3a0984a478ef696b905ff3c16",
            "18d98ee26033456480773a6e2ec4d5f8",
            "251ec6435278440d94efd671002462e6",
            "4fecc87ecb504b7da75bfc362fa463f1",
            "1fada12ae1f7477c8cd6679c991f6b20",
            "29e2425bf69a4897b75f4b9e15496977",
            "f418b675a54648fe847ee9008e00044d",
            "216bbd8dce9b44c4a6372f2137418d6f",
            "cf946ee903dc4c8494edece225ca47d5",
            "b0fb695fcb7241be9fac3faad1dcdb70",
            "6cfa2ff11e03407cab875317bda903ba"
          ]
        },
        "id": "t1aSkjKGOhI9",
        "outputId": "c26dc87e-20a7-49a9-a9ef-6038c29bb6f5"
      },
      "outputs": [
        {
          "data": {
            "application/vnd.jupyter.widget-view+json": {
              "model_id": "2ab26a1568b2488599f1dfa2231caa61",
              "version_major": 2,
              "version_minor": 0
            },
            "text/plain": [
              "Tokenizing:   0%|          | 0/104255 [00:00<?, ?it/s]"
            ]
          },
          "metadata": {},
          "output_type": "display_data"
        },
        {
          "data": {
            "application/vnd.jupyter.widget-view+json": {
              "model_id": "518021a748ce433e9fb28a1520aa8578",
              "version_major": 2,
              "version_minor": 0
            },
            "text/plain": [
              "Tokenizing:   0%|          | 0/26064 [00:00<?, ?it/s]"
            ]
          },
          "metadata": {},
          "output_type": "display_data"
        },
        {
          "data": {
            "application/vnd.jupyter.widget-view+json": {
              "model_id": "87d810e3a0984a478ef696b905ff3c16",
              "version_major": 2,
              "version_minor": 0
            },
            "text/plain": [
              "Tokenizing:   0%|          | 0/11873 [00:00<?, ?it/s]"
            ]
          },
          "metadata": {},
          "output_type": "display_data"
        },
        {
          "name": "stdout",
          "output_type": "stream",
          "text": [
            " Tokenization complete for all sets.\n",
            "% of number rows exeding the chosen no max tokens in df_train_final:  0.010426358448036065\n",
            "% of number rows exeding the chosen no max tokens in df_train_val:  0.010972989564149785\n"
          ]
        }
      ],
      "source": [
        "from transformers import BertTokenizerFast\n",
        "\n",
        "# Load fast tokenizer (already done before, but repeating just in case)\n",
        "tokenizer = BertTokenizerFast.from_pretrained(\"bert-base-uncased\")\n",
        "\n",
        "# Function to tokenize and align start/end positions\n",
        "def tokenize_and_align(df, tokenizer, max_length=384):\n",
        "    input_ids = []\n",
        "    attention_masks = []\n",
        "    start_positions = []\n",
        "    end_positions = []\n",
        "\n",
        "    for idx, row in tqdm(df.iterrows(), total=len(df), desc=\"Tokenizing\"):\n",
        "        question = row['question']\n",
        "        context = row['context']\n",
        "        answer_text = row['clean_answer']\n",
        "        answer_start_char = row['answer_start']\n",
        "        answer_end_char = row['answer_end']\n",
        "        is_impossible = row['is_impossible']\n",
        "\n",
        "        # Tokenize with offset mapping\n",
        "        encoding = tokenizer(\n",
        "            question,\n",
        "            context,\n",
        "            truncation=True,\n",
        "            padding=\"max_length\",\n",
        "            max_length=max_length,\n",
        "            return_offsets_mapping=True,\n",
        "            return_tensors=\"pt\"\n",
        "        )\n",
        "\n",
        "        offsets = encoding['offset_mapping'][0]\n",
        "        input_id = encoding['input_ids'][0]\n",
        "        attention_mask = encoding['attention_mask'][0]\n",
        "\n",
        "        # Default positions for unanswerable questions\n",
        "        start_pos = 0\n",
        "        end_pos = 0\n",
        "\n",
        "        if not is_impossible:\n",
        "            # Find the start/end token indices within the context\n",
        "            for i, (start, end) in enumerate(offsets):\n",
        "                if start <= answer_start_char < end:\n",
        "                    start_pos = i\n",
        "                if start < answer_end_char <= end:\n",
        "                    end_pos = i\n",
        "                    break\n",
        "            # If no match found, fallback to 0\n",
        "            if start_pos == 0 and end_pos == 0:\n",
        "                start_pos = 0\n",
        "                end_pos = 0\n",
        "\n",
        "        input_ids.append(input_id)\n",
        "        attention_masks.append(attention_mask)\n",
        "        start_positions.append(start_pos)\n",
        "        end_positions.append(end_pos)\n",
        "\n",
        "    return {\n",
        "        \"input_ids\": torch.stack(input_ids),\n",
        "        \"attention_mask\": torch.stack(attention_masks),\n",
        "        \"start_positions\": torch.tensor(start_positions),\n",
        "        \"end_positions\": torch.tensor(end_positions)\n",
        "    }\n",
        "\n",
        "# Tokenize all three: train (80%), val (20%), and external SQuAD validation\n",
        "train_encodings = tokenize_and_align(df_train_final, tokenizer)\n",
        "val_encodings = tokenize_and_align(df_val_final, tokenizer)\n",
        "valid_encodings = tokenize_and_align(df_valid, tokenizer)\n",
        "\n",
        "print(\" Tokenization complete for all sets.\")\n",
        "# % of rows exeeding max length =384 tokens\n",
        "print(\"% of number rows exeding the chosen no max tokens in df_train_final: \",(df_train_final['input_length'] > 384).mean())\n",
        "print(\"% of number rows exeding the chosen no max tokens in df_train_val: \",(df_val_final['input_length'] > 384).mean())\n"
      ]
    },
    {
      "cell_type": "markdown",
      "metadata": {
        "id": "Lp-DRZJKTnI1"
      },
      "source": [
        "# **Create QADataset and DataLoader**\n",
        "Wrap train_encodings and valid_encodings in a PyTorch-compatible dataset class\n",
        "\n",
        "Enable batch loading using DataLoader\n",
        "\n",
        "Ready the data for use in training and evaluation loops"
      ]
    },
    {
      "cell_type": "code",
      "execution_count": null,
      "metadata": {
        "colab": {
          "base_uri": "https://localhost:8080/"
        },
        "id": "Zw1YRG82RVLV",
        "outputId": "58b32f8c-63a0-4a9c-f95a-3cc58727be3a"
      },
      "outputs": [
        {
          "name": "stdout",
          "output_type": "stream",
          "text": [
            " DataLoaders created:\n",
            " train_loader → 6516 batches\n",
            " val_loader   → 1629 batches\n",
            " valid_loader → 743 batches\n",
            "Sample input_ids shape: torch.Size([384])\n",
            "Start token index: tensor(8)\n",
            "End token index: tensor(12)\n"
          ]
        }
      ],
      "source": [
        "from torch.utils.data import Dataset, DataLoader\n",
        "\n",
        "# Step 1: Custom Dataset class\n",
        "class QADataset(Dataset):\n",
        "    def __init__(self, encodings):\n",
        "        self.encodings = encodings\n",
        "\n",
        "    def __len__(self):\n",
        "        return self.encodings['input_ids'].shape[0]\n",
        "\n",
        "    def __getitem__(self, idx):\n",
        "        return {\n",
        "            'input_ids': self.encodings['input_ids'][idx],\n",
        "            'attention_mask': self.encodings['attention_mask'][idx],\n",
        "            'start_positions': self.encodings['start_positions'][idx],\n",
        "            'end_positions': self.encodings['end_positions'][idx]\n",
        "        }\n",
        "\n",
        "# Step 2: Wrap Encodings into DataLoaders\n",
        "train_dataset = QADataset(train_encodings)\n",
        "val_dataset   = QADataset(val_encodings)\n",
        "valid_dataset = QADataset(valid_encodings)\n",
        "\n",
        "#  Step 3: Create DataLoaders\n",
        "train_loader = DataLoader(train_dataset, batch_size=16, shuffle=True)\n",
        "val_loader   = DataLoader(val_dataset, batch_size=16, shuffle=False)\n",
        "valid_loader = DataLoader(valid_dataset, batch_size=16, shuffle=False)\n",
        "\n",
        "#  Step 4: Sanity Check\n",
        "print(\" DataLoaders created:\")\n",
        "print(f\" train_loader → {len(train_loader)} batches\")\n",
        "print(f\" val_loader   → {len(val_loader)} batches\")\n",
        "print(f\" valid_loader → {len(valid_loader)} batches\")\n",
        "\n",
        "#  Test: Check one sample\n",
        "sample = train_dataset[0]\n",
        "print(\"Sample input_ids shape:\", sample['input_ids'].shape)\n",
        "print(\"Start token index:\", sample['start_positions'])\n",
        "print(\"End token index:\", sample['end_positions'])\n"
      ]
    },
    {
      "cell_type": "markdown",
      "metadata": {
        "id": "7OE3Y5JbWETO"
      },
      "source": [
        "# **BERT Model Setup and Optimizer Configuration**\n",
        "Load a pretrained BERT model for question answering\n",
        "\n",
        "Move the model to the correct device (GPU/CPU)\n",
        "\n",
        "Define the loss function and optimizer"
      ]
    },
    {
      "cell_type": "code",
      "execution_count": null,
      "metadata": {
        "colab": {
          "base_uri": "https://localhost:8080/",
          "height": 173,
          "referenced_widgets": [
            "2cedba119f3d4260b8e21f007bbc30b9",
            "d3de48396d734b5a94b450016a55349f",
            "47e12d2417864299b0f4c2f5189d6dbd",
            "1fe0c766563c4dcf8a2b9f77710045b1",
            "e04b3936816345488a8bf63566a6b987",
            "b6116e9a8d72475da7d6d8f9fd333bdf",
            "7fe4bdd6637740379abd87c99db55618",
            "983045a8746e4b6180d2679595754851",
            "ea485b7ed12a4463ab57352a1cee83f9",
            "b6c887c326914b188265e14bc0baaed0",
            "ab50654b73d846b292ba6a8130436ae1"
          ]
        },
        "id": "xYv9XKogXI_A",
        "outputId": "bd946091-09ec-464c-d746-647137259e25"
      },
      "outputs": [
        {
          "name": "stderr",
          "output_type": "stream",
          "text": [
            "Xet Storage is enabled for this repo, but the 'hf_xet' package is not installed. Falling back to regular HTTP download. For better performance, install the package with: `pip install huggingface_hub[hf_xet]` or `pip install hf_xet`\n",
            "WARNING:huggingface_hub.file_download:Xet Storage is enabled for this repo, but the 'hf_xet' package is not installed. Falling back to regular HTTP download. For better performance, install the package with: `pip install huggingface_hub[hf_xet]` or `pip install hf_xet`\n"
          ]
        },
        {
          "data": {
            "application/vnd.jupyter.widget-view+json": {
              "model_id": "2cedba119f3d4260b8e21f007bbc30b9",
              "version_major": 2,
              "version_minor": 0
            },
            "text/plain": [
              "model.safetensors:   0%|          | 0.00/440M [00:00<?, ?B/s]"
            ]
          },
          "metadata": {},
          "output_type": "display_data"
        },
        {
          "name": "stderr",
          "output_type": "stream",
          "text": [
            "Some weights of BertForQuestionAnswering were not initialized from the model checkpoint at bert-base-uncased and are newly initialized: ['qa_outputs.bias', 'qa_outputs.weight']\n",
            "You should probably TRAIN this model on a down-stream task to be able to use it for predictions and inference.\n"
          ]
        },
        {
          "name": "stdout",
          "output_type": "stream",
          "text": [
            " Model loaded and moved to: cuda\n",
            "Number of trainable parameters: 108,893,186\n"
          ]
        }
      ],
      "source": [
        "from transformers import BertForQuestionAnswering\n",
        "from torch.optim import AdamW  #  Fixed import\n",
        "\n",
        "#  Load BERT QA model\n",
        "model = BertForQuestionAnswering.from_pretrained(\"bert-base-uncased\")\n",
        "\n",
        "# Move model to device (GPU if available)\n",
        "model.to(device)\n",
        "print(f\" Model loaded and moved to: {device}\")\n",
        "\n",
        "#  Define optimizer\n",
        "optimizer = AdamW(model.parameters(), lr=2e-5)\n",
        "\n",
        "#  Sanity check\n",
        "print(f\"Number of trainable parameters: {sum(p.numel() for p in model.parameters() if p.requires_grad):,}\")\n",
        "\n"
      ]
    },
    {
      "cell_type": "markdown",
      "metadata": {
        "id": "yHeiXgdM2J7Q"
      },
      "source": [
        "# **Final version Training loop **\n",
        "Feature\tStatus\n",
        " Step-based training loop\tIncluded\n",
        " get_linear_schedule_with_warmup\tIncluded\n",
        " TQDM progress bar\tIncluded\n",
        " Mid-step validation\tIncluded\n",
        " EM accuracy + validation loss\tIncluded\n",
        " Mixed precision training (AMP)\tIncluded\n",
        " Sample prediction logging\tIncluded\n",
        " Early stopping\tIncluded\n",
        " Live plotting (train vs val loss)\tInclude\n",
        "\n"
      ]
    },
    {
      "cell_type": "code",
      "execution_count": null,
      "metadata": {
        "id": "pPUviIoc1-ZZ"
      },
      "outputs": [],
      "source": [
        "#  Full Enhanced Training Loop for QA (Colab Ready)\n",
        "# --------------------------------------------------\n",
        "\n",
        "import torch\n",
        "import numpy as np\n",
        "import matplotlib.pyplot as plt\n",
        "from tqdm import tqdm\n",
        "from transformers import get_linear_schedule_with_warmup\n",
        "\n",
        "#  Full Training Function\n",
        "\n",
        "def train_with_enhancements(\n",
        "    model,\n",
        "    train_loader,\n",
        "    val_loader,\n",
        "    optimizer,\n",
        "    device,\n",
        "    total_steps,\n",
        "    eval_every=1000,\n",
        "    use_scheduler=True,\n",
        "    use_early_stopping=True,\n",
        "    early_stopping_patience=5,\n",
        "    show_predictions_every=500,\n",
        "    use_mixed_precision=True\n",
        "):\n",
        "    model.to(device)\n",
        "    model.train()\n",
        "\n",
        "    scaler = torch.cuda.amp.GradScaler(enabled=use_mixed_precision)\n",
        "    scheduler = get_linear_schedule_with_warmup(\n",
        "        optimizer,\n",
        "        num_warmup_steps=total_steps // 10,  # 10% warmup\n",
        "        num_training_steps=total_steps\n",
        "    ) if use_scheduler else None\n",
        "\n",
        "    step = 0\n",
        "    train_losses = []\n",
        "    val_losses = []\n",
        "    val_accuracies = []\n",
        "    best_val_loss = float('inf')\n",
        "    epochs_no_improve = 0\n",
        "\n",
        "    progress = tqdm(total=total_steps, desc=\"Training\")\n",
        "\n",
        "    while step < total_steps:\n",
        "        for batch in train_loader:\n",
        "            model.train()\n",
        "            input_ids = batch['input_ids'].to(device)\n",
        "            attention_mask = batch['attention_mask'].to(device)\n",
        "            start_positions = batch['start_positions'].to(device)\n",
        "            end_positions = batch['end_positions'].to(device)\n",
        "\n",
        "            optimizer.zero_grad()\n",
        "\n",
        "            with torch.cuda.amp.autocast(enabled=use_mixed_precision):\n",
        "                outputs = model(\n",
        "                    input_ids=input_ids,\n",
        "                    attention_mask=attention_mask,\n",
        "                    start_positions=start_positions,\n",
        "                    end_positions=end_positions\n",
        "                )\n",
        "                loss = outputs.loss\n",
        "\n",
        "            scaler.scale(loss).backward()\n",
        "            scaler.step(optimizer)\n",
        "            scaler.update()\n",
        "            if scheduler:\n",
        "                scheduler.step()\n",
        "\n",
        "            train_losses.append(loss.item())\n",
        "            progress.set_postfix({\"Loss\": loss.item(), \"Step\": step})\n",
        "            progress.update(1)\n",
        "            step += 1\n",
        "\n",
        "            #  Validation Check\n",
        "            if step % eval_every == 0 or step == total_steps:\n",
        "                val_loss, val_acc = evaluate_on_validation(model, val_loader, device)\n",
        "                val_losses.append(val_loss)\n",
        "                val_accuracies.append(val_acc)\n",
        "\n",
        "                print(f\"\\n📊 Step {step} — Val Loss: {val_loss:.4f} | EM Accuracy: {val_acc:.2f}%\")\n",
        "\n",
        "                if val_loss < best_val_loss:\n",
        "                    best_val_loss = val_loss\n",
        "                    epochs_no_improve = 0\n",
        "                    torch.save(model.state_dict(), \"best_model.pt\")\n",
        "                else:\n",
        "                    epochs_no_improve += 1\n",
        "\n",
        "                if use_early_stopping and epochs_no_improve >= early_stopping_patience:\n",
        "                    print(\" Early stopping triggered.\")\n",
        "                    progress.close()\n",
        "                    return train_losses, val_losses, val_accuracies\n",
        "\n",
        "            # 🔬 Sample Prediction\n",
        "            if step % show_predictions_every == 0:\n",
        "                try:\n",
        "                    model.eval()\n",
        "                    offsets = tokenizer(\n",
        "                        tokenizer.decode(input_ids[0], skip_special_tokens=True),\n",
        "                        return_offsets_mapping=True,\n",
        "                        truncation=True,\n",
        "                        max_length=384,\n",
        "                        padding='max_length'\n",
        "                    )['offset_mapping']\n",
        "\n",
        "                    sample_context = tokenizer.decode(input_ids[0], skip_special_tokens=True)\n",
        "                    pred_start = torch.argmax(outputs.start_logits[0])\n",
        "                    pred_end = torch.argmax(outputs.end_logits[0])\n",
        "\n",
        "                    if pred_start < len(offsets) and pred_end < len(offsets):\n",
        "                        start_char = offsets[pred_start][0]\n",
        "                        end_char = offsets[pred_end][1]\n",
        "                        pred_answer = sample_context[start_char:end_char].strip()\n",
        "                    else:\n",
        "                        pred_answer = \"[Invalid span]\"\n",
        "\n",
        "                    print(\"\\n [Sample Prediction]\")\n",
        "                    print(f\"Predicted: {pred_answer}\")\n",
        "                except:\n",
        "                    pass\n",
        "\n",
        "            if step >= total_steps:\n",
        "                break\n",
        "\n",
        "    progress.close()\n",
        "    return train_losses, val_losses, val_accuracies\n",
        "\n",
        "\n",
        "#  Evaluation Function\n",
        "\n",
        "def evaluate_on_validation(model, val_loader, device):\n",
        "    model.eval()\n",
        "    total_loss = 0\n",
        "    correct = 0\n",
        "    total = 0\n",
        "\n",
        "    with torch.no_grad():\n",
        "        for batch in val_loader:\n",
        "            input_ids = batch['input_ids'].to(device)\n",
        "            attention_mask = batch['attention_mask'].to(device)\n",
        "            start_positions = batch['start_positions'].to(device)\n",
        "            end_positions = batch['end_positions'].to(device)\n",
        "\n",
        "            outputs = model(\n",
        "                input_ids=input_ids,\n",
        "                attention_mask=attention_mask,\n",
        "                start_positions=start_positions,\n",
        "                end_positions=end_positions\n",
        "            )\n",
        "\n",
        "            loss = outputs.loss\n",
        "            total_loss += loss.item()\n",
        "\n",
        "            start_preds = torch.argmax(outputs.start_logits, dim=1)\n",
        "            end_preds = torch.argmax(outputs.end_logits, dim=1)\n",
        "            correct += ((start_preds == start_positions) & (end_preds == end_positions)).sum().item()\n",
        "            total += input_ids.size(0)\n",
        "\n",
        "    avg_loss = total_loss / len(val_loader)\n",
        "    acc = 100.0 * correct / total\n",
        "    return avg_loss, acc\n",
        "\n",
        "\n",
        "# 📈 Plotting Function\n",
        "\n",
        "def plot_loss(train_losses, val_losses, val_accuracies):\n",
        "    steps = list(range(1, len(val_losses) + 1))\n",
        "    plt.figure(figsize=(12, 5))\n",
        "\n",
        "    plt.subplot(1, 2, 1)\n",
        "    plt.plot(train_losses, label=\"Train Loss\", color='blue')\n",
        "    plt.plot(np.linspace(0, len(train_losses), len(val_losses)), val_losses, label=\"Val Loss\", color='red')\n",
        "    plt.title(\"Loss Curve\")\n",
        "    plt.xlabel(\"Training Steps\")\n",
        "    plt.ylabel(\"Loss\")\n",
        "    plt.legend()\n",
        "    plt.grid(True)\n",
        "\n",
        "    plt.subplot(1, 2, 2)\n",
        "    plt.plot(steps, val_accuracies, marker='o', linestyle='-', color='green')\n",
        "    plt.title(\"Validation EM Accuracy\")\n",
        "    plt.xlabel(\"Evaluation Steps\")\n",
        "    plt.ylabel(\"Accuracy (%)\")\n",
        "    plt.grid(True)\n",
        "\n",
        "    plt.tight_layout()\n",
        "    plt.show()\n"
      ]
    },
    {
      "cell_type": "markdown",
      "metadata": {
        "id": "6CDqB_F732kS"
      },
      "source": [
        "# **Training Loop Trigger final version**"
      ]
    },
    {
      "cell_type": "code",
      "execution_count": null,
      "metadata": {
        "colab": {
          "base_uri": "https://localhost:8080/"
        },
        "id": "SZIHMiPT5hSn",
        "outputId": "1a51fa85-24cf-4e76-82b3-239fe7bb50e6"
      },
      "outputs": [
        {
          "name": "stderr",
          "output_type": "stream",
          "text": [
            "<ipython-input-10-f9c3eb543e0c>:29: FutureWarning: `torch.cuda.amp.GradScaler(args...)` is deprecated. Please use `torch.amp.GradScaler('cuda', args...)` instead.\n",
            "  scaler = torch.cuda.amp.GradScaler(enabled=use_mixed_precision)\n",
            "Training:   0%|          | 0/40000 [00:00<?, ?it/s]<ipython-input-10-f9c3eb543e0c>:55: FutureWarning: `torch.cuda.amp.autocast(args...)` is deprecated. Please use `torch.amp.autocast('cuda', args...)` instead.\n",
            "  with torch.cuda.amp.autocast(enabled=use_mixed_precision):\n",
            "Training:   2%|▎         | 1000/40000 [04:48<3:09:46,  3.43it/s, Loss=3.21, Step=999]"
          ]
        },
        {
          "name": "stdout",
          "output_type": "stream",
          "text": [
            "\n",
            "📊 Step 1000 — Val Loss: 2.7794 | EM Accuracy: 25.65%\n"
          ]
        },
        {
          "name": "stderr",
          "output_type": "stream",
          "text": [
            "Training:   5%|▌         | 2000/40000 [19:06<3:06:57,  3.39it/s, Loss=2.05, Step=1999]"
          ]
        },
        {
          "name": "stdout",
          "output_type": "stream",
          "text": [
            "\n",
            "📊 Step 2000 — Val Loss: 1.8889 | EM Accuracy: 33.42%\n",
            "\n",
            "🔎 [Sample Prediction]\n",
            "Predicted: \n"
          ]
        },
        {
          "name": "stderr",
          "output_type": "stream",
          "text": [
            "Training:   8%|▊         | 3000/40000 [33:25<3:02:32,  3.38it/s, Loss=2.47, Step=2999]"
          ]
        },
        {
          "name": "stdout",
          "output_type": "stream",
          "text": [
            "\n",
            "📊 Step 3000 — Val Loss: 1.7004 | EM Accuracy: 38.06%\n"
          ]
        },
        {
          "name": "stderr",
          "output_type": "stream",
          "text": [
            "Training:  10%|█         | 4000/40000 [47:43<2:57:01,  3.39it/s, Loss=1.5, Step=3999]"
          ]
        },
        {
          "name": "stdout",
          "output_type": "stream",
          "text": [
            "\n",
            "📊 Step 4000 — Val Loss: 1.5199 | EM Accuracy: 43.17%\n",
            "\n",
            "🔎 [Sample Prediction]\n",
            "Predicted: who was legally black under virginia law at the time? of numerous relationships between male slaveholders, overseers, or master ' s sons and women slaves, the most notable is likely that of president thomas jefferson with his slave sally hemings. as noted in the 2012 collaborative smithsonian - monticello exhibit, slavery at monticello : the paradox of liberty, jefferson, then a widower, took hemings as his concubine for nearly 40 years. they had six children of record ; four hemings children survived into adulthood, and he freed them all, among the very few slaves he freed. two were allowed to \" escape \" to the north in 1822, and two were granted freedom by his will upon his death in 1826. seven - eighths white by ancestry, all four of his hemings children moved to northern states as adults ; three of the four entered the white community, and all their descendants identified as white. of the descendants of madison hemings, who continued to identify as black, some in future generations eventually identified as white and \" married out \", while others continued to identify as african american. it was socially advantageous for the hemings children to identify as white, in keeping with their appearance and the majority proportion of their ancestry. although born into slavery, the hemings children were\n"
          ]
        },
        {
          "name": "stderr",
          "output_type": "stream",
          "text": [
            "Training:  12%|█▎        | 5000/40000 [1:02:06<2:51:44,  3.40it/s, Loss=2.08, Step=4999]"
          ]
        },
        {
          "name": "stdout",
          "output_type": "stream",
          "text": [
            "\n",
            "📊 Step 5000 — Val Loss: 1.3752 | EM Accuracy: 50.32%\n"
          ]
        },
        {
          "name": "stderr",
          "output_type": "stream",
          "text": [
            "Training:  15%|█▌        | 6000/40000 [1:16:24<2:46:38,  3.40it/s, Loss=1.26, Step=5999]"
          ]
        },
        {
          "name": "stdout",
          "output_type": "stream",
          "text": [
            "\n",
            "📊 Step 6000 — Val Loss: 1.3116 | EM Accuracy: 52.46%\n",
            "\n",
            "🔎 [Sample Prediction]\n",
            "Predicted: patriot and coworker for religious freedom,\n"
          ]
        },
        {
          "name": "stderr",
          "output_type": "stream",
          "text": [
            "Training:  18%|█▊        | 7000/40000 [1:30:42<2:41:42,  3.40it/s, Loss=0.75, Step=6999]"
          ]
        },
        {
          "name": "stdout",
          "output_type": "stream",
          "text": [
            "\n",
            "📊 Step 7000 — Val Loss: 1.3125 | EM Accuracy: 51.48%\n"
          ]
        },
        {
          "name": "stderr",
          "output_type": "stream",
          "text": [
            "Training:  20%|██        | 8000/40000 [1:44:54<2:36:08,  3.42it/s, Loss=0.975, Step=7999]"
          ]
        },
        {
          "name": "stdout",
          "output_type": "stream",
          "text": [
            "\n",
            "📊 Step 8000 — Val Loss: 1.2383 | EM Accuracy: 54.25%\n",
            "\n",
            "🔎 [Sample Prediction]\n",
            "Predicted: \n"
          ]
        },
        {
          "name": "stderr",
          "output_type": "stream",
          "text": [
            "Training:  22%|██▎       | 9000/40000 [1:59:16<2:31:04,  3.42it/s, Loss=1.47, Step=8999]"
          ]
        },
        {
          "name": "stdout",
          "output_type": "stream",
          "text": [
            "\n",
            "📊 Step 9000 — Val Loss: 1.1898 | EM Accuracy: 55.44%\n"
          ]
        },
        {
          "name": "stderr",
          "output_type": "stream",
          "text": [
            "Training:  25%|██▌       | 10000/40000 [2:13:34<2:26:38,  3.41it/s, Loss=0.896, Step=9999]"
          ]
        },
        {
          "name": "stdout",
          "output_type": "stream",
          "text": [
            "\n",
            "📊 Step 10000 — Val Loss: 1.1579 | EM Accuracy: 56.03%\n",
            "\n",
            "🔎 [Sample Prediction]\n",
            "Predicted: religion and\n"
          ]
        },
        {
          "name": "stderr",
          "output_type": "stream",
          "text": [
            "Training:  28%|██▊       | 11000/40000 [2:27:58<2:21:59,  3.40it/s, Loss=0.908, Step=10999]"
          ]
        },
        {
          "name": "stdout",
          "output_type": "stream",
          "text": [
            "\n",
            "📊 Step 11000 — Val Loss: 1.1700 | EM Accuracy: 57.26%\n"
          ]
        },
        {
          "name": "stderr",
          "output_type": "stream",
          "text": [
            "Training:  30%|███       | 12000/40000 [2:42:10<2:16:34,  3.42it/s, Loss=1.61, Step=11999]"
          ]
        },
        {
          "name": "stdout",
          "output_type": "stream",
          "text": [
            "\n",
            "📊 Step 12000 — Val Loss: 1.1385 | EM Accuracy: 58.22%\n",
            "\n",
            "🔎 [Sample Prediction]\n",
            "Predicted: hydrogen / orthohydrogen ratio (\n"
          ]
        },
        {
          "name": "stderr",
          "output_type": "stream",
          "text": [
            "Training:  32%|███▎      | 13000/40000 [2:56:30<2:11:39,  3.42it/s, Loss=1.29, Step=12999]"
          ]
        },
        {
          "name": "stdout",
          "output_type": "stream",
          "text": [
            "\n",
            "📊 Step 13000 — Val Loss: 1.1281 | EM Accuracy: 56.90%\n"
          ]
        },
        {
          "name": "stderr",
          "output_type": "stream",
          "text": [
            "Training:  35%|███▌      | 14000/40000 [3:10:52<2:06:13,  3.43it/s, Loss=0.297, Step=13999]"
          ]
        },
        {
          "name": "stdout",
          "output_type": "stream",
          "text": [
            "\n",
            "📊 Step 14000 — Val Loss: 1.1703 | EM Accuracy: 58.51%\n",
            "\n",
            "🔎 [Sample Prediction]\n",
            "Predicted: \n"
          ]
        },
        {
          "name": "stderr",
          "output_type": "stream",
          "text": [
            "Training:  38%|███▊      | 15000/40000 [3:25:04<2:01:51,  3.42it/s, Loss=0.66, Step=14999]"
          ]
        },
        {
          "name": "stdout",
          "output_type": "stream",
          "text": [
            "\n",
            "📊 Step 15000 — Val Loss: 1.1753 | EM Accuracy: 58.64%\n"
          ]
        },
        {
          "name": "stderr",
          "output_type": "stream",
          "text": [
            "Training:  40%|████      | 16000/40000 [3:39:17<1:56:25,  3.44it/s, Loss=0.576, Step=15999]"
          ]
        },
        {
          "name": "stdout",
          "output_type": "stream",
          "text": [
            "\n",
            "📊 Step 16000 — Val Loss: 1.2173 | EM Accuracy: 57.06%\n",
            "\n",
            "🔎 [Sample Prediction]\n",
            "Predicted: \n"
          ]
        },
        {
          "name": "stderr",
          "output_type": "stream",
          "text": [
            "Training:  42%|████▎     | 17000/40000 [3:53:28<1:51:50,  3.43it/s, Loss=0.248, Step=16999]"
          ]
        },
        {
          "name": "stdout",
          "output_type": "stream",
          "text": [
            "\n",
            "📊 Step 17000 — Val Loss: 1.1617 | EM Accuracy: 59.20%\n"
          ]
        },
        {
          "name": "stderr",
          "output_type": "stream",
          "text": [
            "Training:  45%|████▌     | 18000/40000 [4:07:40<1:47:12,  3.42it/s, Loss=0.454, Step=17999]"
          ]
        },
        {
          "name": "stdout",
          "output_type": "stream",
          "text": [
            "\n",
            "📊 Step 18000 — Val Loss: 1.2125 | EM Accuracy: 57.17%\n",
            "\n",
            "🔎 [Sample Prediction]\n",
            "Predicted: groups or\n"
          ]
        },
        {
          "name": "stderr",
          "output_type": "stream",
          "text": [
            "Training:  48%|████▊     | 19000/40000 [4:21:52<1:42:25,  3.42it/s, Loss=0.681, Step=18999]"
          ]
        },
        {
          "name": "stdout",
          "output_type": "stream",
          "text": [
            "\n",
            "📊 Step 19000 — Val Loss: 1.1677 | EM Accuracy: 58.31%\n"
          ]
        },
        {
          "name": "stderr",
          "output_type": "stream",
          "text": [
            "Training:  50%|█████     | 20000/40000 [4:36:02<1:37:52,  3.41it/s, Loss=0.659, Step=2e+4]"
          ]
        },
        {
          "name": "stdout",
          "output_type": "stream",
          "text": [
            "\n",
            "📊 Step 20000 — Val Loss: 1.2505 | EM Accuracy: 57.22%\n",
            "\n",
            "🔎 [Sample Prediction]\n",
            "Predicted: \n"
          ]
        },
        {
          "name": "stderr",
          "output_type": "stream",
          "text": [
            "Training:  52%|█████▎    | 21000/40000 [4:59:31<4:30:59,  1.17it/s, Loss=0.409, Step=20999]"
          ]
        },
        {
          "name": "stdout",
          "output_type": "stream",
          "text": [
            "\n",
            "📊 Step 21000 — Val Loss: 1.2207 | EM Accuracy: 59.88%\n",
            "🛑 Early stopping triggered.\n"
          ]
        },
        {
          "name": "stderr",
          "output_type": "stream",
          "text": [
            "\n"
          ]
        },
        {
          "name": "stdout",
          "output_type": "stream",
          "text": [
            "✅ Model and tokenizer saved to: /content/qa_model_checkpoint\n"
          ]
        }
      ],
      "source": [
        "from torch.optim import AdamW  # Import AdamW from torch.optim\n",
        "from transformers import BertForQuestionAnswering\n",
        "import os\n",
        "\n",
        "# Model to device\n",
        "model.to(device)\n",
        "\n",
        "# Optimizer\n",
        "optimizer = AdamW(model.parameters(), lr=2e-5)\n",
        "\n",
        "#  Total steps (adjust based on full dataset length)\n",
        "# Example: assume 500 steps per epoch, run for 5 epochs → 2500 steps\n",
        "total_steps = 40000\n",
        "eval_every = 1000          # Validate every 1000 steps\n",
        "show_predictions_every = 2000  # Print a prediction every 2000 steps\n",
        "\n",
        "# Train\n",
        "train_losses, val_losses, val_accuracies = train_with_enhancements(\n",
        "    model=model,\n",
        "    train_loader=train_loader,      # built from df_training_final\n",
        "    val_loader=val_loader,          # built from df_val_final\n",
        "    optimizer=optimizer,\n",
        "    device=device,\n",
        "    total_steps=total_steps,\n",
        "    eval_every=eval_every,\n",
        "    use_scheduler=True,\n",
        "    use_early_stopping=True,\n",
        "    early_stopping_patience=8,\n",
        "    show_predictions_every=show_predictions_every,\n",
        "    use_mixed_precision=True  # True only if using GPU\n",
        ")\n",
        "\n",
        "# Save the best model & tokenizer\n",
        "model_dir = \"/content/qa_model_checkpoint\"\n",
        "os.makedirs(model_dir, exist_ok=True)\n",
        "\n",
        "model.save_pretrained(model_dir)\n",
        "tokenizer.save_pretrained(model_dir)\n",
        "\n",
        "print(f\" Model and tokenizer saved to: {model_dir}\")\n"
      ]
    },
    {
      "cell_type": "code",
      "execution_count": null,
      "metadata": {
        "colab": {
          "base_uri": "https://localhost:8080/",
          "height": 494
        },
        "id": "2HiVNoA8aEor",
        "outputId": "93c3e5d3-e9dc-4579-effc-fb0a100cc0a3"
      },
      "outputs": [
        {
          "data": {
            "image/png": "[encoded data removed]",
            "text/plain": [
              "<Figure size 1200x500 with 2 Axes>"
            ]
          },
          "metadata": {},
          "output_type": "display_data"
        }
      ],
      "source": [
        "# 📈 Plot the performance\n",
        "plot_loss(train_losses, val_losses, val_accuracies)\n"
      ]
    },
    {
      "cell_type": "markdown",
      "metadata": {
        "id": "rybP2lvsRlzG"
      },
      "source": [
        "# **Loading the trained model back to colab **"
      ]
    },
    {
      "cell_type": "code",
      "execution_count": null,
      "metadata": {
        "colab": {
          "base_uri": "https://localhost:8080/"
        },
        "id": "_JDHCAS4DZCW",
        "outputId": "4b9e4db8-9fdf-430d-845c-5a3a1c5d6943"
      },
      "outputs": [
        {
          "name": "stdout",
          "output_type": "stream",
          "text": [
            "✅ Model and tokenizer saved to: /content/qa_model_checkpoint\n"
          ]
        }
      ],
      "source": [
        "import os\n",
        "from transformers import BertForQuestionAnswering\n",
        "\n",
        "# 🔧 Set folder path to save locally\n",
        "model_dir = \"/content/qa_model_checkpoint\"\n",
        "os.makedirs(model_dir, exist_ok=True)\n",
        "\n",
        "# Save model\n",
        "model.save_pretrained(model_dir)\n",
        "\n",
        "#  Save tokenizer\n",
        "tokenizer.save_pretrained(model_dir)\n",
        "\n",
        "print(f\" Model and tokenizer saved to: {model_dir}\")\n"
      ]
    },
    {
      "cell_type": "code",
      "execution_count": null,
      "metadata": {
        "colab": {
          "base_uri": "https://localhost:8080/"
        },
        "id": "9Wvb4tiWDxFY",
        "outputId": "f680cfc1-8704-4717-f881-2fa8a77d1af7"
      },
      "outputs": [
        {
          "name": "stdout",
          "output_type": "stream",
          "text": [
            "Mounted at /content/drive\n",
            "✅ Model and tokenizer copied to Google Drive at: /content/drive/My Drive/SQuAD_QA_Mode-V4\n"
          ]
        }
      ],
      "source": [
        "from google.colab import drive\n",
        "import shutil\n",
        "\n",
        "# Mount Google Drive\n",
        "drive.mount('/content/drive')\n",
        "\n",
        "# Set destination folder in Drive\n",
        "drive_folder = \"/content/drive/My Drive/SQuAD_QA_Mode-V4-sk\"\n",
        "os.makedirs(drive_folder, exist_ok=True)\n",
        "\n",
        "# Copy saved model and tokenizer to Drive\n",
        "shutil.copytree(model_dir, drive_folder, dirs_exist_ok=True)\n",
        "\n",
        "print(f\"Model and tokenizer copied to Google Drive at: {drive_folder}\")\n"
      ]
    },
    {
      "cell_type": "code",
      "source": [
        "from transformers import AutoTokenizer, AutoModelForQuestionAnswering\n",
        "import torch\n",
        "\n",
        "# Path to your fine-tuned model\n",
        "model_path = \"./qa_model_checkpoint\"\n",
        "\n",
        "# Load tokenizer and model\n",
        "tokenizer = AutoTokenizer.from_pretrained(model_path)\n",
        "model = AutoModelForQuestionAnswering.from_pretrained(model_path)\n",
        "model.eval()\n"
      ],
      "metadata": {
        "colab": {
          "base_uri": "https://localhost:8080/"
        },
        "id": "YeCRZw_O7dvH",
        "outputId": "18873224-30dd-4cd3-c8b7-1a3f3a02f1f1"
      },
      "execution_count": null,
      "outputs": [
        {
          "output_type": "execute_result",
          "data": {
            "text/plain": [
              "BertForQuestionAnswering(\n",
              "  (bert): BertModel(\n",
              "    (embeddings): BertEmbeddings(\n",
              "      (word_embeddings): Embedding(30522, 768, padding_idx=0)\n",
              "      (position_embeddings): Embedding(512, 768)\n",
              "      (token_type_embeddings): Embedding(2, 768)\n",
              "      (LayerNorm): LayerNorm((768,), eps=1e-12, elementwise_affine=True)\n",
              "      (dropout): Dropout(p=0.1, inplace=False)\n",
              "    )\n",
              "    (encoder): BertEncoder(\n",
              "      (layer): ModuleList(\n",
              "        (0-11): 12 x BertLayer(\n",
              "          (attention): BertAttention(\n",
              "            (self): BertSdpaSelfAttention(\n",
              "              (query): Linear(in_features=768, out_features=768, bias=True)\n",
              "              (key): Linear(in_features=768, out_features=768, bias=True)\n",
              "              (value): Linear(in_features=768, out_features=768, bias=True)\n",
              "              (dropout): Dropout(p=0.1, inplace=False)\n",
              "            )\n",
              "            (output): BertSelfOutput(\n",
              "              (dense): Linear(in_features=768, out_features=768, bias=True)\n",
              "              (LayerNorm): LayerNorm((768,), eps=1e-12, elementwise_affine=True)\n",
              "              (dropout): Dropout(p=0.1, inplace=False)\n",
              "            )\n",
              "          )\n",
              "          (intermediate): BertIntermediate(\n",
              "            (dense): Linear(in_features=768, out_features=3072, bias=True)\n",
              "            (intermediate_act_fn): GELUActivation()\n",
              "          )\n",
              "          (output): BertOutput(\n",
              "            (dense): Linear(in_features=3072, out_features=768, bias=True)\n",
              "            (LayerNorm): LayerNorm((768,), eps=1e-12, elementwise_affine=True)\n",
              "            (dropout): Dropout(p=0.1, inplace=False)\n",
              "          )\n",
              "        )\n",
              "      )\n",
              "    )\n",
              "  )\n",
              "  (qa_outputs): Linear(in_features=768, out_features=2, bias=True)\n",
              ")"
            ]
          },
          "metadata": {},
          "execution_count": 4
        }
      ]
    },
    {
      "cell_type": "markdown",
      "source": [
        "# **Download SQuAD v2.0 Validation Set**\n",
        " Option 1: Use Python to Download Automatically in Colab\n",
        " Downloading SQuADv2. validation dataset directly source"
      ],
      "metadata": {
        "id": "VxF2xOwDFwqg"
      }
    },
    {
      "cell_type": "code",
      "source": [
        "!wget https://rajpurkar.github.io/SQuAD-explorer/dataset/dev-v2.0.json -O squad2_validation.json\n"
      ],
      "metadata": {
        "colab": {
          "base_uri": "https://localhost:8080/"
        },
        "id": "BbPEO0HrFZC8",
        "outputId": "60030090-dd2e-45f5-f665-beae13787188"
      },
      "execution_count": null,
      "outputs": [
        {
          "output_type": "stream",
          "name": "stdout",
          "text": [
            "--2025-04-14 15:05:22--  https://rajpurkar.github.io/SQuAD-explorer/dataset/dev-v2.0.json\n",
            "Resolving rajpurkar.github.io (rajpurkar.github.io)... 185.199.108.153, 185.199.111.153, 185.199.110.153, ...\n",
            "Connecting to rajpurkar.github.io (rajpurkar.github.io)|185.199.108.153|:443... connected.\n",
            "HTTP request sent, awaiting response... 200 OK\n",
            "Length: 4370528 (4.2M) [application/json]\n",
            "Saving to: ‘squad2_validation.json’\n",
            "\n",
            "\rsquad2_validation.j   0%[                    ]       0  --.-KB/s               \rsquad2_validation.j 100%[===================>]   4.17M  --.-KB/s    in 0.06s   \n",
            "\n",
            "2025-04-14 15:05:23 (66.9 MB/s) - ‘squad2_validation.json’ saved [4370528/4370528]\n",
            "\n"
          ]
        }
      ]
    },
    {
      "cell_type": "markdown",
      "source": [
        "# **Load SQuAD v2.0 Validation Data**"
      ],
      "metadata": {
        "id": "waaacBrqF3lI"
      }
    },
    {
      "cell_type": "code",
      "source": [
        "import json\n",
        "\n",
        "# Load SQuAD v2.0 validation dataset\n",
        "with open(\"squad2_validation.json\", \"r\") as f:\n",
        "    squad_data = json.load(f)[\"data\"]  # Extract only the \"data\" section\n",
        "\n",
        "# Sanity check: print number of articles\n",
        "print(\"Number of articles loaded:\", len(squad_data))\n"
      ],
      "metadata": {
        "colab": {
          "base_uri": "https://localhost:8080/"
        },
        "id": "IYoMmiAHFpRC",
        "outputId": "452990bb-ded6-4f45-8189-0f3f87486ac0"
      },
      "execution_count": null,
      "outputs": [
        {
          "output_type": "stream",
          "name": "stdout",
          "text": [
            "Number of articles loaded: 35\n"
          ]
        }
      ]
    },
    {
      "cell_type": "code",
      "source": [
        "device = torch.device(\"cuda\" if torch.cuda.is_available() else \"cpu\")\n",
        "model = model.to(device) # Move the model to the selected device"
      ],
      "metadata": {
        "id": "QYPCU-gy-bbr"
      },
      "execution_count": null,
      "outputs": []
    },
    {
      "cell_type": "markdown",
      "source": [
        "# **Run Predictions with Your BERT Model**\n",
        "This block loops through every question + context pair in the validation file, performs inference using your BERT model, and stores:\n",
        "\n",
        "The predicted answer (predictions.json)\n",
        "\n",
        "The confidence score for unanswerable questions (na_prob.json)"
      ],
      "metadata": {
        "id": "LTJ7lFXdAMsX"
      }
    },
    {
      "cell_type": "code",
      "source": [
        "from tqdm import tqdm\n",
        "import torch\n",
        "# Move model to GPU outside the prediction loop\n",
        "#print(\"✅ CUDA Available:\", torch.cuda.is_available())\n",
        "#print(\"💻 Current Device:\", torch.cuda.get_device_name(0) if torch.cuda.is_available() else \"CPU\")\n",
        "device = torch.device(\"cuda\" if torch.cuda.is_available() else \"cpu\")\n",
        "model = model.to(device) # Move the model to the selected device\n",
        "\n",
        "\n",
        "predictions = {}\n",
        "na_probs = {}\n",
        "\n",
        "for article in tqdm(squad_data, desc=\"Processing Articles\"):\n",
        "    for paragraph in article[\"paragraphs\"]:\n",
        "        context = paragraph[\"context\"]\n",
        "\n",
        "        for qa in paragraph[\"qas\"]:\n",
        "            question = qa[\"question\"]\n",
        "            qid = qa[\"id\"]\n",
        "\n",
        "            # Tokenize question-context pair and move to GPU\n",
        "            inputs = tokenizer(\n",
        "                question,\n",
        "                context,\n",
        "                return_tensors=\"pt\",\n",
        "                truncation=True,\n",
        "                max_length=512\n",
        "            ).to(device)  # Move inputs to the same device as the model\n",
        "\n",
        "            with torch.no_grad():\n",
        "                outputs = model(**inputs)\n",
        "            # --- Improved Span Scoring + No-Answer Logic ---\n",
        "            max_answer_length = 30\n",
        "            input_ids = inputs[\"input_ids\"][0]\n",
        "            start_logits = outputs.start_logits[0]\n",
        "            end_logits = outputs.end_logits[0]\n",
        "\n",
        "            # --- Best span selection ---\n",
        "            best_score = float(\"-inf\")\n",
        "            best_start = best_end = 0\n",
        "\n",
        "            for i in range(len(start_logits)):\n",
        "                for j in range(i, min(i + max_answer_length, len(end_logits))):\n",
        "                    score = start_logits[i] + end_logits[j]\n",
        "                    if score > best_score:\n",
        "                        best_start = i\n",
        "                        best_end = j\n",
        "                        best_score = score\n",
        "\n",
        "            # --- Decode best span ---\n",
        "            predicted_tokens = input_ids[best_start:best_end + 1]\n",
        "            answer_text = tokenizer.decode(predicted_tokens, skip_special_tokens=True).strip()\n",
        "\n",
        "            # --- Logit difference for \"no answer\" ---\n",
        "            null_score = (start_logits[0] + end_logits[0]).item()\n",
        "            logit_diff = null_score - best_score\n",
        "\n",
        "            # Convert to no-answer probability using sigmoid\n",
        "            import torch.nn.functional as F\n",
        "            na_prob = F.sigmoid(torch.tensor(logit_diff)).item()\n",
        "\n",
        "            # Threshold-based prediction\n",
        "            threshold = 0.25  # Tune this later during evaluation\n",
        "            predictions[qid] = \"\" if na_prob > threshold else answer_text\n",
        "            na_probs[qid] = round(na_prob, 4)\n"
      ],
      "metadata": {
        "id": "XLGAKz7yGRhh",
        "colab": {
          "base_uri": "https://localhost:8080/"
        },
        "outputId": "3865cb1a-5561-4775-a816-02463c5d88de"
      },
      "execution_count": null,
      "outputs": [
        {
          "output_type": "stream",
          "name": "stderr",
          "text": [
            "\rProcessing Articles:   0%|          | 0/35 [00:00<?, ?it/s]<ipython-input-8-156f7d7bbe84>:60: UserWarning: To copy construct from a tensor, it is recommended to use sourceTensor.clone().detach() or sourceTensor.clone().detach().requires_grad_(True), rather than torch.tensor(sourceTensor).\n",
            "  na_prob = F.sigmoid(torch.tensor(logit_diff)).item()\n",
            "Processing Articles: 100%|██████████| 35/35 [46:13<00:00, 79.25s/it]\n"
          ]
        }
      ]
    },
    {
      "cell_type": "markdown",
      "source": [
        "# **BLOCK 4: Save predictions.json and na_prob.json**\n",
        "This step writes both dictionaries (predictions, na_probs) into properly formatted .json files.\n",
        "\n"
      ],
      "metadata": {
        "id": "sEB4ULChjaI1"
      }
    },
    {
      "cell_type": "code",
      "source": [
        "from google.colab import files\n",
        "\n",
        "# Save first (if not already saved)\n",
        "with open(\"predictions.json\", \"w\") as f:\n",
        "    json.dump(predictions, f)\n",
        "\n",
        "with open(\"na_prob.json\", \"w\") as f:\n",
        "    json.dump(na_probs, f)\n",
        "\n",
        "# Then trigger download\n",
        "files.download(\"predictions.json\")\n",
        "files.download(\"na_prob.json\")\n"
      ],
      "metadata": {
        "colab": {
          "base_uri": "https://localhost:8080/",
          "height": 17
        },
        "id": "psVB-dxfjdt8",
        "outputId": "ae274bee-ee36-441d-f86f-3f83ac39b85c"
      },
      "execution_count": null,
      "outputs": [
        {
          "output_type": "display_data",
          "data": {
            "text/plain": [
              "<IPython.core.display.Javascript object>"
            ],
            "application/javascript": [
              "\n",
              "    async function download(id, filename, size) {\n",
              "      if (!google.colab.kernel.accessAllowed) {\n",
              "        return;\n",
              "      }\n",
              "      const div = document.createElement('div');\n",
              "      const label = document.createElement('label');\n",
              "      label.textContent = `Downloading \"${filename}\": `;\n",
              "      div.appendChild(label);\n",
              "      const progress = document.createElement('progress');\n",
              "      progress.max = size;\n",
              "      div.appendChild(progress);\n",
              "      document.body.appendChild(div);\n",
              "\n",
              "      const buffers = [];\n",
              "      let downloaded = 0;\n",
              "\n",
              "      const channel = await google.colab.kernel.comms.open(id);\n",
              "      // Send a message to notify the kernel that we're ready.\n",
              "      channel.send({})\n",
              "\n",
              "      for await (const message of channel.messages) {\n",
              "        // Send a message to notify the kernel that we're ready.\n",
              "        channel.send({})\n",
              "        if (message.buffers) {\n",
              "          for (const buffer of message.buffers) {\n",
              "            buffers.push(buffer);\n",
              "            downloaded += buffer.byteLength;\n",
              "            progress.value = downloaded;\n",
              "          }\n",
              "        }\n",
              "      }\n",
              "      const blob = new Blob(buffers, {type: 'application/binary'});\n",
              "      const a = document.createElement('a');\n",
              "      a.href = window.URL.createObjectURL(blob);\n",
              "      a.download = filename;\n",
              "      div.appendChild(a);\n",
              "      a.click();\n",
              "      div.remove();\n",
              "    }\n",
              "  "
            ]
          },
          "metadata": {}
        },
        {
          "output_type": "display_data",
          "data": {
            "text/plain": [
              "<IPython.core.display.Javascript object>"
            ],
            "application/javascript": [
              "download(\"download_e5abe720-12a9-4695-a823-4c9106a97814\", \"predictions.json\", 619795)"
            ]
          },
          "metadata": {}
        },
        {
          "output_type": "display_data",
          "data": {
            "text/plain": [
              "<IPython.core.display.Javascript object>"
            ],
            "application/javascript": [
              "\n",
              "    async function download(id, filename, size) {\n",
              "      if (!google.colab.kernel.accessAllowed) {\n",
              "        return;\n",
              "      }\n",
              "      const div = document.createElement('div');\n",
              "      const label = document.createElement('label');\n",
              "      label.textContent = `Downloading \"${filename}\": `;\n",
              "      div.appendChild(label);\n",
              "      const progress = document.createElement('progress');\n",
              "      progress.max = size;\n",
              "      div.appendChild(progress);\n",
              "      document.body.appendChild(div);\n",
              "\n",
              "      const buffers = [];\n",
              "      let downloaded = 0;\n",
              "\n",
              "      const channel = await google.colab.kernel.comms.open(id);\n",
              "      // Send a message to notify the kernel that we're ready.\n",
              "      channel.send({})\n",
              "\n",
              "      for await (const message of channel.messages) {\n",
              "        // Send a message to notify the kernel that we're ready.\n",
              "        channel.send({})\n",
              "        if (message.buffers) {\n",
              "          for (const buffer of message.buffers) {\n",
              "            buffers.push(buffer);\n",
              "            downloaded += buffer.byteLength;\n",
              "            progress.value = downloaded;\n",
              "          }\n",
              "        }\n",
              "      }\n",
              "      const blob = new Blob(buffers, {type: 'application/binary'});\n",
              "      const a = document.createElement('a');\n",
              "      a.href = window.URL.createObjectURL(blob);\n",
              "      a.download = filename;\n",
              "      div.appendChild(a);\n",
              "      a.click();\n",
              "      div.remove();\n",
              "    }\n",
              "  "
            ]
          },
          "metadata": {}
        },
        {
          "output_type": "display_data",
          "data": {
            "text/plain": [
              "<IPython.core.display.Javascript object>"
            ],
            "application/javascript": [
              "download(\"download_eae19f65-58d6-433e-ae62-5ddcb86e5521\", \"na_prob.json\", 403546)"
            ]
          },
          "metadata": {}
        }
      ]
    },
    {
      "cell_type": "code",
      "source": [
        "# 🔁 Re-run this AFTER the prediction loop finishes\n",
        "\n",
        "import os\n",
        "import json\n",
        "\n",
        "# ✅ Step 1: Mount Google Drive (if not done already)\n",
        "from google.colab import drive\n",
        "drive.mount('/content/drive')\n",
        "\n",
        "# ✅ Step 2: Create save folder\n",
        "output_folder = \"/content/drive/MyDrive/QA_Evaluation_Files_V4/\"\n",
        "os.makedirs(output_folder, exist_ok=True)\n",
        "\n",
        "# ✅ Step 3: Save predictions and na_prob\n",
        "with open(output_folder + \"predictions.json\", \"w\") as f:\n",
        "    json.dump(predictions, f)\n",
        "\n",
        "with open(output_folder + \"na_prob.json\", \"w\") as f:\n",
        "    json.dump(na_probs, f)\n",
        "\n",
        "print(\"✅ Files saved to your Google Drive folder at:\\n\", output_folder)\n"
      ],
      "metadata": {
        "id": "mP8vGncNz-nt",
        "colab": {
          "base_uri": "https://localhost:8080/"
        },
        "outputId": "bdf0b4d6-0927-4c73-9451-df8e308ef3e7"
      },
      "execution_count": null,
      "outputs": [
        {
          "output_type": "stream",
          "name": "stdout",
          "text": [
            "Drive already mounted at /content/drive; to attempt to forcibly remount, call drive.mount(\"/content/drive\", force_remount=True).\n",
            "✅ Files saved to your Google Drive folder at:\n",
            " /content/drive/MyDrive/QA_Evaluation_Files_V4/\n"
          ]
        }
      ]
    },
    {
      "cell_type": "markdown",
      "source": [
        "# **BLOCK 5: Run Official SQuAD v2.0 Evaluation**\n",
        "This block executes the official script on:\n",
        "\n",
        "predictions.json\n",
        "\n",
        "The squad2_validation.json ground-truth file\n",
        "\n",
        "Your na_prob.json for no-answer thresholding\n",
        "\n",
        "\n",
        "\n",
        "\n"
      ],
      "metadata": {
        "id": "OHMJUt2Tj0px"
      }
    },
    {
      "cell_type": "code",
      "source": [
        "!wget https://raw.githubusercontent.com/rajpurkar/SQuAD-explorer/master/evaluate-v2.0.py -O squad_evaluate.py\n"
      ],
      "metadata": {
        "colab": {
          "base_uri": "https://localhost:8080/"
        },
        "id": "3VGN8J8RkSkm",
        "outputId": "a54eaa30-97d4-452d-bab4-67a9776677b3"
      },
      "execution_count": null,
      "outputs": [
        {
          "output_type": "stream",
          "name": "stdout",
          "text": [
            "--2025-04-14 16:08:59--  https://raw.githubusercontent.com/rajpurkar/SQuAD-explorer/master/evaluate-v2.0.py\n",
            "Resolving raw.githubusercontent.com (raw.githubusercontent.com)... 185.199.108.133, 185.199.109.133, 185.199.110.133, ...\n",
            "Connecting to raw.githubusercontent.com (raw.githubusercontent.com)|185.199.108.133|:443... connected.\n",
            "HTTP request sent, awaiting response... 200 OK\n",
            "Length: 10547 (10K) [text/plain]\n",
            "Saving to: ‘squad_evaluate.py’\n",
            "\n",
            "squad_evaluate.py   100%[===================>]  10.30K  --.-KB/s    in 0.001s  \n",
            "\n",
            "2025-04-14 16:08:59 (15.4 MB/s) - ‘squad_evaluate.py’ saved [10547/10547]\n",
            "\n"
          ]
        }
      ]
    },
    {
      "cell_type": "code",
      "source": [
        "!python3 squad_evaluate.py \\\n",
        "    squad2_validation.json \\\n",
        "    predictions.json \\\n",
        "    -n na_prob.json \\\n",
        "    -o eval_output.json \\\n",
        "    -t 0.5  # Threshold: If na_prob > 0.5, predict \"\"\n"
      ],
      "metadata": {
        "id": "Brhmp1BVkc5U"
      },
      "execution_count": null,
      "outputs": []
    },
    {
      "cell_type": "code",
      "source": [
        "# Check if the evaluation file was written\n",
        "import os\n",
        "\n",
        "if os.path.exists(\"eval_output.json\"):\n",
        "    with open(\"eval_output.json\", \"r\") as f:\n",
        "        results = json.load(f)\n",
        "    print(\"✅ Evaluation Results:\")\n",
        "    for key, value in results.items():\n",
        "        print(f\"{key}: {value:.2f}\")\n",
        "else:\n",
        "    print(\"⚠️  eval_output.json was not created. Something went wrong.\")\n"
      ],
      "metadata": {
        "colab": {
          "base_uri": "https://localhost:8080/"
        },
        "id": "8MptWnizlKlJ",
        "outputId": "f69fd25b-94ce-4b91-d6d6-fd8626affd5a"
      },
      "execution_count": null,
      "outputs": [
        {
          "output_type": "stream",
          "name": "stdout",
          "text": [
            "✅ Evaluation Results:\n",
            "exact: 47.28\n",
            "f1: 52.99\n",
            "total: 11873.00\n",
            "HasAns_exact: 60.04\n",
            "HasAns_f1: 71.47\n",
            "HasAns_total: 5928.00\n",
            "NoAns_exact: 34.57\n",
            "NoAns_f1: 34.57\n",
            "NoAns_total: 5945.00\n",
            "best_exact: 58.52\n",
            "best_exact_thresh: 0.00\n",
            "best_f1: 62.60\n",
            "best_f1_thresh: 0.00\n"
          ]
        }
      ]
    },
    {
      "cell_type": "markdown",
      "source": [
        "# **BLOCK 6: Full In-Notebook Python Evaluation + Visualization**\n",
        "Let’s start by implementing the core metric logic for:\n",
        "\n",
        "Exact Match (EM)\n",
        "\n",
        "F1 Score\n",
        "\n",
        "Unanswerable Handling\n",
        "\n",
        "Threshold-based evaluation\n",
        "\n",
        "PR curves (optional)"
      ],
      "metadata": {
        "id": "YH-EbuZkmfvG"
      }
    },
    {
      "cell_type": "code",
      "source": [
        "import json\n",
        "import re\n",
        "import string\n",
        "import numpy as np\n",
        "import collections\n",
        "import matplotlib.pyplot as plt\n",
        "\n",
        "# Load SQuAD validation set\n",
        "with open(\"squad2_validation.json\", \"r\") as f:\n",
        "    dataset = json.load(f)[\"data\"]\n",
        "\n",
        "# Load model predictions\n",
        "with open(\"predictions.json\", \"r\") as f:\n",
        "    preds = json.load(f)\n",
        "\n",
        "# Load no-answer probabilities\n",
        "with open(\"na_prob.json\", \"r\") as f:\n",
        "    na_probs = json.load(f)\n"
      ],
      "metadata": {
        "id": "XLRONcNpmiMm"
      },
      "execution_count": null,
      "outputs": []
    },
    {
      "cell_type": "code",
      "source": [
        "def normalize_answer(s):\n",
        "    def remove_articles(text):\n",
        "        return re.sub(r'\\b(a|an|the)\\b', ' ', text)\n",
        "    def white_space_fix(text):\n",
        "        return ' '.join(text.split())\n",
        "    def remove_punc(text):\n",
        "        return ''.join(ch for ch in text if ch not in set(string.punctuation))\n",
        "    def lower(text):\n",
        "        return text.lower()\n",
        "    return white_space_fix(remove_articles(remove_punc(lower(s))))\n",
        "\n",
        "def get_tokens(s):\n",
        "    if not s: return []\n",
        "    return normalize_answer(s).split()\n",
        "\n",
        "def compute_exact(a_gold, a_pred):\n",
        "    return int(normalize_answer(a_gold) == normalize_answer(a_pred))\n",
        "\n",
        "def compute_f1(a_gold, a_pred):\n",
        "    gold_toks = get_tokens(a_gold)\n",
        "    pred_toks = get_tokens(a_pred)\n",
        "    common = collections.Counter(gold_toks) & collections.Counter(pred_toks)\n",
        "    num_same = sum(common.values())\n",
        "    if len(gold_toks) == 0 or len(pred_toks) == 0:\n",
        "        return int(gold_toks == pred_toks)\n",
        "    if num_same == 0:\n",
        "        return 0\n",
        "    precision = num_same / len(pred_toks)\n",
        "    recall = num_same / len(gold_toks)\n",
        "    return (2 * precision * recall) / (precision + recall)\n"
      ],
      "metadata": {
        "id": "eJpgQRFZmooE"
      },
      "execution_count": null,
      "outputs": []
    },
    {
      "cell_type": "code",
      "source": [
        "# Map QID to whether the question has a valid answer\n",
        "def make_qid_to_has_ans(dataset):\n",
        "    qid_to_has_ans = {}\n",
        "    for article in dataset:\n",
        "        for p in article[\"paragraphs\"]:\n",
        "            for qa in p[\"qas\"]:\n",
        "                qid = qa[\"id\"]\n",
        "                qid_to_has_ans[qid] = bool(qa[\"answers\"])\n",
        "    return qid_to_has_ans\n",
        "\n",
        "# Get raw scores (no threshold applied)\n",
        "def get_raw_scores(dataset, preds):\n",
        "    exact_scores = {}\n",
        "    f1_scores = {}\n",
        "\n",
        "    for article in dataset:\n",
        "        for p in article[\"paragraphs\"]:\n",
        "            for qa in p[\"qas\"]:\n",
        "                qid = qa[\"id\"]\n",
        "                gold_answers = [a[\"text\"] for a in qa[\"answers\"] if a[\"text\"].strip()]\n",
        "\n",
        "                if not gold_answers:\n",
        "                    gold_answers = [\"\"]\n",
        "\n",
        "                if qid not in preds:\n",
        "                    continue\n",
        "\n",
        "                pred = preds[qid]\n",
        "                exact = max(compute_exact(a, pred) for a in gold_answers)\n",
        "                f1 = max(compute_f1(a, pred) for a in gold_answers)\n",
        "\n",
        "                exact_scores[qid] = exact\n",
        "                f1_scores[qid] = f1\n",
        "\n",
        "    return exact_scores, f1_scores\n"
      ],
      "metadata": {
        "id": "4r8GURoLmvGr"
      },
      "execution_count": null,
      "outputs": []
    },
    {
      "cell_type": "markdown",
      "source": [
        " **STEP 6.4: Apply Thresholding and Compute Metrics**\n",
        "We'll define the function to apply your model’s na_prob values and optionally threshold predictions as unanswerable (\"\"), then calculate:\n",
        "\n",
        "Overall EM and F1\n",
        "\n",
        "Metrics separately for HasAns and NoAns\n",
        "\n",
        "Best F1 and EM thresholds"
      ],
      "metadata": {
        "id": "NAYnW6z9m9zf"
      }
    },
    {
      "cell_type": "code",
      "source": [
        "# Apply threshold to override predictions\n",
        "def apply_no_ans_threshold(scores, na_probs, qid_to_has_ans, threshold):\n",
        "    new_scores = {}\n",
        "    for qid, score in scores.items():\n",
        "        is_pred_na = na_probs.get(qid, 0.0) > threshold\n",
        "        if is_pred_na:\n",
        "            new_scores[qid] = float(not qid_to_has_ans[qid])\n",
        "        else:\n",
        "            new_scores[qid] = score\n",
        "    return new_scores\n",
        "\n",
        "# Compute overall metrics\n",
        "def make_eval_dict(exact_scores, f1_scores, qid_to_has_ans, threshold):\n",
        "    has_ans_qids = [k for k, v in qid_to_has_ans.items() if v]\n",
        "    no_ans_qids = [k for k, v in qid_to_has_ans.items() if not v]\n",
        "\n",
        "    exact_thresh = apply_no_ans_threshold(exact_scores, na_probs, qid_to_has_ans, threshold)\n",
        "    f1_thresh = apply_no_ans_threshold(f1_scores, na_probs, qid_to_has_ans, threshold)\n",
        "\n",
        "    def average(scores, qids):\n",
        "        return 100.0 * sum(scores[qid] for qid in qids) / len(qids) if qids else 0.0\n",
        "\n",
        "    results = {\n",
        "        \"exact\": average(exact_thresh, exact_thresh.keys()),\n",
        "        \"f1\": average(f1_thresh, f1_thresh.keys()),\n",
        "        \"HasAns_exact\": average(exact_thresh, has_ans_qids),\n",
        "        \"HasAns_f1\": average(f1_thresh, has_ans_qids),\n",
        "        \"NoAns_exact\": average(exact_thresh, no_ans_qids),\n",
        "        \"NoAns_f1\": average(f1_thresh, no_ans_qids),\n",
        "    }\n",
        "    return results\n"
      ],
      "metadata": {
        "id": "ZLLh880rnE65"
      },
      "execution_count": null,
      "outputs": []
    },
    {
      "cell_type": "markdown",
      "source": [
        "Run the Evaluation at Default Threshold (e.g., 0.5)"
      ],
      "metadata": {
        "id": "zu57Vp1inMgy"
      }
    },
    {
      "cell_type": "code",
      "source": [
        "# Prepare mappings\n",
        "qid_to_has_ans = make_qid_to_has_ans(dataset)\n",
        "exact_raw, f1_raw = get_raw_scores(dataset, preds)\n",
        "\n",
        "# Evaluate with threshold = 0.5\n",
        "eval_results = make_eval_dict(exact_raw, f1_raw, qid_to_has_ans, threshold= 0.0)\n",
        "\n",
        "print(\"✅ Evaluation Results @ threshold :\",threshold)\n",
        "for k, v in eval_results.items():\n",
        "    print(f\"{k}: {v:.2f}\")\n"
      ],
      "metadata": {
        "colab": {
          "base_uri": "https://localhost:8080/"
        },
        "id": "hqEcXpcgnPYb",
        "outputId": "eb412deb-bde3-42db-e5db-8746796cd06a"
      },
      "execution_count": null,
      "outputs": [
        {
          "output_type": "stream",
          "name": "stdout",
          "text": [
            "✅ Evaluation Results @ threshold : 0.25\n",
            "exact: 58.52\n",
            "f1: 62.48\n",
            "HasAns_exact: 47.13\n",
            "HasAns_f1: 55.07\n",
            "NoAns_exact: 69.87\n",
            "NoAns_f1: 69.87\n"
          ]
        }
      ]
    },
    {
      "cell_type": "markdown",
      "source": [
        "**STEP 6.5: Visualize Metric Scores Across Thresholds**\n",
        "\n",
        "\n",
        "Loops through thresholds from 0.0 to 1.0\n",
        "\n",
        "Applies each to your predictions\n",
        "\n",
        "Plots F1 and Exact Match against thresholds\n",
        "\n"
      ],
      "metadata": {
        "id": "hpfi0aG0ne9Y"
      }
    },
    {
      "cell_type": "markdown",
      "source": [
        " Code Block: Generate Threshold Curve and Plot It"
      ],
      "metadata": {
        "id": "6AVXD77Mnqny"
      }
    },
    {
      "cell_type": "code",
      "source": [
        "# Sweep over thresholds to find the best EM/F1\n",
        "thresholds = np.linspace(0, 1, 101)\n",
        "f1_scores = []\n",
        "em_scores = []\n",
        "\n",
        "for t in thresholds:\n",
        "    result = make_eval_dict(exact_raw, f1_raw, qid_to_has_ans, threshold=t)\n",
        "    f1_scores.append(result[\"f1\"])\n",
        "    em_scores.append(result[\"exact\"])\n",
        "\n",
        "# Find best values\n",
        "best_f1 = max(zip(thresholds, f1_scores), key=lambda x: x[1])\n",
        "best_em = max(zip(thresholds, em_scores), key=lambda x: x[1])\n"
      ],
      "metadata": {
        "id": "vAfqS8rUntWR"
      },
      "execution_count": null,
      "outputs": []
    },
    {
      "cell_type": "markdown",
      "source": [
        "Code Block: Plot the Results"
      ],
      "metadata": {
        "id": "GJnkkBq7nyiq"
      }
    },
    {
      "cell_type": "code",
      "source": [
        "plt.figure(figsize=(10, 6))\n",
        "plt.plot(thresholds, f1_scores, label=\"F1 Score\", linewidth=2)\n",
        "plt.plot(thresholds, em_scores, label=\"Exact Match\", linewidth=2)\n",
        "plt.axvline(best_f1[0], linestyle=\"--\", color=\"blue\", label=f\"Best F1 @ {best_f1[0]:.2f}\")\n",
        "plt.axvline(best_em[0], linestyle=\"--\", color=\"orange\", label=f\"Best EM @ {best_em[0]:.2f}\")\n",
        "plt.title(\"F1 & Exact Match vs. No-Answer Threshold\")\n",
        "plt.xlabel(\"No-Answer Probability Threshold\")\n",
        "plt.ylabel(\"Score (%)\")\n",
        "plt.legend()\n",
        "plt.grid(True)\n",
        "plt.show()\n",
        "\n",
        "# Also print best scores\n",
        "print(f\"🏆 Best F1 Score: {best_f1[1]:.2f} at threshold {best_f1[0]:.2f}\")\n",
        "print(f\"🏆 Best EM Score: {best_em[1]:.2f} at threshold {best_em[0]:.2f}\")\n"
      ],
      "metadata": {
        "colab": {
          "base_uri": "https://localhost:8080/",
          "height": 599
        },
        "id": "Dp6xQB7Tn2E2",
        "outputId": "9089a2db-0a63-49c5-f727-40031c5f57fe"
      },
      "execution_count": null,
      "outputs": [
        {
          "output_type": "display_data",
          "data": {
            "text/plain": [
              "<Figure size 1000x600 with 1 Axes>"
            ],
            "image/png": "[encoded data removed]"
          },
          "metadata": {}
        },
        {
          "output_type": "stream",
          "name": "stdout",
          "text": [
            "🏆 Best F1 Score: 62.48 at threshold 0.00\n",
            "🏆 Best EM Score: 58.52 at threshold 0.00\n"
          ]
        }
      ]
    },
    {
      "cell_type": "markdown",
      "source": [
        "# **STEP 7: Visual Error Inspection on Answerable Questions**\n",
        "This block will:\n",
        "\n",
        "Filter only HasAns examples from SQuAD\n",
        "\n",
        "Show actual context, question, ground truth answer, and model prediction\n",
        "\n",
        "Help identify if there’s a span extraction issue or complete failure\n",
        "\n"
      ],
      "metadata": {
        "id": "P7CiMsw6sIlo"
      }
    },
    {
      "cell_type": "markdown",
      "source": [
        " Code Block: Visual Inspection of Predictions"
      ],
      "metadata": {
        "id": "SkBTFQbfsRCA"
      }
    },
    {
      "cell_type": "code",
      "source": [
        "import random\n",
        "from IPython.display import display, Markdown\n",
        "\n",
        "# Collect a few answerable QIDs\n",
        "answerable_samples = []\n",
        "\n",
        "for article in dataset:\n",
        "    for p in article[\"paragraphs\"]:\n",
        "        context = p[\"context\"]\n",
        "        for qa in p[\"qas\"]:\n",
        "            if qa[\"answers\"]:\n",
        "                qid = qa[\"id\"]\n",
        "                if qid in preds:\n",
        "                    answer = qa[\"answers\"][0][\"text\"]\n",
        "                    question = qa[\"question\"]\n",
        "                    pred = preds[qid]\n",
        "                    na_prob = na_probs.get(qid, 0.0)\n",
        "\n",
        "                    answerable_samples.append({\n",
        "                        \"id\": qid,\n",
        "                        \"question\": question,\n",
        "                        \"context\": context,\n",
        "                        \"answer\": answer,\n",
        "                        \"prediction\": pred,\n",
        "                        \"na_prob\": na_prob\n",
        "                    })\n",
        "\n",
        "# Show 5 random samples\n",
        "sampled = random.sample(answerable_samples, 5)\n",
        "\n",
        "for ex in sampled:\n",
        "    display(Markdown(f\"\"\"\n",
        "### 🔎 Question ID: `{ex['id']}`\n",
        "**❓ Question**: {ex['question']}\n",
        "\n",
        "**📌 Ground Truth Answer**: `{ex['answer']}`\n",
        "**🤖 Model Prediction**: `{ex['prediction']}`\n",
        "**📉 No-Answer Prob**: `{ex['na_prob']}`\n",
        "\n",
        "**🧠 Context Snippet**:\n",
        "`...{ex['context'][0:400]}...`\n",
        "\"\"\"))\n"
      ],
      "metadata": {
        "colab": {
          "base_uri": "https://localhost:8080/",
          "height": 822
        },
        "id": "yX2WtnrQsOlT",
        "outputId": "c2174707-1c0b-4d22-c3f2-fa19182e11fc"
      },
      "execution_count": null,
      "outputs": [
        {
          "output_type": "display_data",
          "data": {
            "text/plain": [
              "<IPython.core.display.Markdown object>"
            ],
            "text/markdown": "\n### 🔎 Question ID: `572a03a06aef0514001551ad`\n**❓ Question**: How long may the Amazon rainforest be threatened, according to some computer models?\n\n**📌 Ground Truth Answer**: `though the 21st century`\n**🤖 Model Prediction**: `21st century`\n**📉 No-Answer Prob**: `0.0`\n\n**🧠 Context Snippet**:\n`...One computer model of future climate change caused by greenhouse gas emissions shows that the Amazon rainforest could become unsustainable under conditions of severely reduced rainfall and increased temperatures, leading to an almost complete loss of rainforest cover in the basin by 2100. However, simulations of Amazon basin climate change across many different models are not consistent in their e...`\n"
          },
          "metadata": {}
        },
        {
          "output_type": "display_data",
          "data": {
            "text/plain": [
              "<IPython.core.display.Markdown object>"
            ],
            "text/markdown": "\n### 🔎 Question ID: `57097051ed30961900e84135`\n**❓ Question**: Who did BSkyB compete with initially?\n\n**📌 Ground Truth Answer**: `ONdigital`\n**🤖 Model Prediction**: `ondigital ( later itv digital )`\n**📉 No-Answer Prob**: `0.0`\n\n**🧠 Context Snippet**:\n`...BSkyB's digital service was officially launched on 1 October 1998 under the name Sky Digital, although small-scale tests were carried out before then. At this time the use of the Sky Digital brand made an important distinction between the new service and Sky's analogue services. Key selling points were the improvement in picture and sound quality, increased number of channels and an interactive se...`\n"
          },
          "metadata": {}
        },
        {
          "output_type": "display_data",
          "data": {
            "text/plain": [
              "<IPython.core.display.Markdown object>"
            ],
            "text/markdown": "\n### 🔎 Question ID: `570d50a5fed7b91900d45e7d`\n**❓ Question**: How much did the gross agricultural product increase from 2003-04?\n\n**📌 Ground Truth Answer**: `$8.7 billion`\n**🤖 Model Prediction**: `17 % to $ 8. 7 billion`\n**📉 No-Answer Prob**: `0.0`\n\n**🧠 Context Snippet**:\n`...During 2003–04, the gross value of Victorian agricultural production increased by 17% to $8.7 billion. This represented 24% of national agricultural production total gross value. As of 2004, an estimated 32,463 farms occupied around 136,000 square kilometres (52,500 sq mi) of Victorian land. This comprises more than 60% of the state's total land surface. Victorian farms range from small horticultu...`\n"
          },
          "metadata": {}
        },
        {
          "output_type": "display_data",
          "data": {
            "text/plain": [
              "<IPython.core.display.Markdown object>"
            ],
            "text/markdown": "\n### 🔎 Question ID: `5728eef92ca10214002daab2`\n**❓ Question**: When many people are arrested, what is a common tactic negotiating?\n\n**📌 Ground Truth Answer**: `solidarity tactics`\n**🤖 Model Prediction**: `solidarity tactics`\n**📉 No-Answer Prob**: `0.0193`\n\n**🧠 Context Snippet**:\n`...Sometimes the prosecution proposes a plea bargain to civil disobedients, as in the case of the Camden 28, in which the defendants were offered an opportunity to plead guilty to one misdemeanor count and receive no jail time. In some mass arrest situations, the activists decide to use solidarity tactics to secure the same plea bargain for everyone. But some activists have opted to enter a blind ple...`\n"
          },
          "metadata": {}
        },
        {
          "output_type": "display_data",
          "data": {
            "text/plain": [
              "<IPython.core.display.Markdown object>"
            ],
            "text/markdown": "\n### 🔎 Question ID: `56e1aba0e3433e1400423097`\n**❓ Question**: What is the most commonplace model utilized in complexity theory?\n\n**📌 Ground Truth Answer**: `the Turing machine`\n**🤖 Model Prediction**: `the turing machine`\n**📉 No-Answer Prob**: `0.0`\n\n**🧠 Context Snippet**:\n`...A Turing machine is a mathematical model of a general computing machine. It is a theoretical device that manipulates symbols contained on a strip of tape. Turing machines are not intended as a practical computing technology, but rather as a thought experiment representing a computing machine—anything from an advanced supercomputer to a mathematician with a pencil and paper. It is believed that if ...`\n"
          },
          "metadata": {}
        }
      ]
    },
    {
      "cell_type": "markdown",
      "source": [
        "# **Manual Context + Question Input (Test Mode)**"
      ],
      "metadata": {
        "id": "u33P8EH6VcZG"
      }
    },
    {
      "cell_type": "code",
      "source": [
        "def predict_answer_v2(question, context, model, tokenizer, max_length=384, threshold=0.5, max_span_length=30):\n",
        "    model.eval()\n",
        "    with torch.no_grad():\n",
        "        # Tokenize with offset mapping for better span decoding\n",
        "        inputs = tokenizer(\n",
        "            question,\n",
        "            context,\n",
        "            return_tensors=\"pt\",\n",
        "            truncation=True,\n",
        "            max_length=max_length,\n",
        "            return_offsets_mapping=True,\n",
        "            padding=\"max_length\"\n",
        "        )\n",
        "\n",
        "        offset_mapping = inputs.pop(\"offset_mapping\")[0]  # shape: [seq_len, 2]\n",
        "        inputs = {k: v.to(device) for k, v in inputs.items()}\n",
        "\n",
        "        outputs = model(**inputs)\n",
        "        start_logits = outputs.start_logits[0]\n",
        "        end_logits = outputs.end_logits[0]\n",
        "        input_ids = inputs[\"input_ids\"][0]\n",
        "\n",
        "        # Best span selection\n",
        "        best_score = float(\"-inf\")\n",
        "        best_start = best_end = 0\n",
        "\n",
        "        for i in range(len(start_logits)):\n",
        "            for j in range(i, min(i + max_span_length, len(end_logits))):\n",
        "                score = start_logits[i] + end_logits[j]\n",
        "                if score > best_score:\n",
        "                    best_start = i\n",
        "                    best_end = j\n",
        "                    best_score = score\n",
        "\n",
        "        # Decode span using offset mapping\n",
        "        start_char = offset_mapping[best_start][0].item()\n",
        "        end_char = offset_mapping[best_end][1].item()\n",
        "\n",
        "        predicted_answer = context[start_char:end_char].strip()\n",
        "\n",
        "        # Compute no-answer probability using logit difference\n",
        "        null_score = (start_logits[0] + end_logits[0]).item()\n",
        "        logit_diff = null_score - best_score\n",
        "        import torch.nn.functional as F\n",
        "        na_prob = F.sigmoid(logit_diff.clone().detach()).item() if isinstance(logit_diff, torch.Tensor) else F.sigmoid(torch.tensor(logit_diff)).item()\n",
        "\n",
        "        # Final decision\n",
        "        if na_prob > threshold or end_char <= start_char:\n",
        "            return {\n",
        "                \"answer\": \"No answer\",\n",
        "                \"na_probability\": round(na_prob, 4),\n",
        "                \"confidence_score\": round(best_score.item() if isinstance(best_score, torch.Tensor) else best_score, 4)\n",
        "\n",
        "            }\n",
        "        else:\n",
        "            return {\n",
        "                \"answer\": predicted_answer,\n",
        "                \"na_probability\": round(na_prob, 4),\n",
        "                \"confidence_score\": round(best_score.item() if isinstance(best_score, torch.Tensor) else best_score, 4)\n",
        "    }\n",
        "\n"
      ],
      "metadata": {
        "id": "5Jhr6tRUQK_s"
      },
      "execution_count": null,
      "outputs": []
    },
    {
      "cell_type": "markdown",
      "source": [
        "Example Usage"
      ],
      "metadata": {
        "id": "p-PYp2V5QV_5"
      }
    },
    {
      "cell_type": "code",
      "source": [
        "context = \"\"\"This is a retrospective study from 3 patients with 2019 - nCoV infection admitted to Renmin Hospital of Wuhan University, a COVID - 2019 designated hospital in Wuhan, from January 31 to February 6, 2020. All patients were diagnosed and classified based on the Diagnosis and Treatment of New Coronavirus Pneumonia ( 6th edition ) published by the National Health Commission of China4. We recorded the epidemiological history, demographic features, clinical characteristics, symptoms and signs, treatment and clinical outcome in detail. Additionally, we found that the proportion of probiotics was significantly reduced, such as Bifidobacterium, Lactobacillus, and Eubacterium, and the proportion of conditioned pathogenic bacteria was significantly increased, such as Corynebacterium of Actinobacteria and Ruthenibacterium of Firmicutes. Notably, all patients died.\"\"\"\n",
        "\n",
        "question = \"What is the mortality of ARDS caused by viral infections?\"\n",
        "\n",
        "\n",
        "result = predict_answer_v2(question, context, model, tokenizer)\n",
        "print(\" Answer:\", result[\"answer\"])\n",
        "print(\" No-Answer Probability:\", result[\"na_probability\"])\n",
        "print(\"Span Score:\", result[\"confidence_score\"])\n"
      ],
      "metadata": {
        "colab": {
          "base_uri": "https://localhost:8080/"
        },
        "id": "e6J_5MciQXuS",
        "outputId": "110f1bb1-8137-4e26-c308-53ec118ae502"
      },
      "execution_count": null,
      "outputs": [
        {
          "output_type": "stream",
          "name": "stdout",
          "text": [
            "🔎 Answer: No answer\n",
            "📉 No-Answer Probability: 0.5\n",
            "💯 Span Score: 4.262\n"
          ]
        }
      ]
    },
    {
      "cell_type": "code",
      "source": [
        "!pip install -q sentence-transformers\n"
      ],
      "metadata": {
        "id": "8IIBfahc3QB6"
      },
      "execution_count": null,
      "outputs": []
    },
    {
      "cell_type": "code",
      "source": [
        "import pandas as pd\n",
        "import json\n",
        "from tqdm import tqdm\n",
        "from google.colab import files\n",
        "from sentence_transformers import SentenceTransformer, util\n",
        "\n",
        "# Load semantic similarity model\n",
        "semantic_model = SentenceTransformer('all-MiniLM-L6-v2')\n",
        "\n",
        "# Upload file\n",
        "uploaded = files.upload()\n",
        "filename = list(uploaded.keys())[0]\n",
        "\n",
        "# Detect file type\n",
        "if filename.endswith(\".json\"):\n",
        "    input_type = \"json\"\n",
        "elif filename.endswith(\".csv\"):\n",
        "    input_type = \"csv\"\n",
        "else:\n",
        "    raise ValueError(\"Unsupported file type\")\n",
        "\n",
        "results = []\n",
        "\n",
        "if input_type == \"json\":\n",
        "    with open(filename, \"r\") as f:\n",
        "        squad_data = json.load(f)[\"data\"]\n",
        "\n",
        "    for article in tqdm(squad_data, desc=\"Processing JSON\"):\n",
        "        for paragraph in article[\"paragraphs\"]:\n",
        "            context = paragraph[\"context\"]\n",
        "            for qa in paragraph[\"qas\"]:\n",
        "                qid = qa[\"id\"]\n",
        "                question = qa[\"question\"]\n",
        "                true_answer = qa[\"answers\"][0][\"text\"] if \"answers\" in qa and qa[\"answers\"] else \"\"\n",
        "\n",
        "                result = predict_answer_v2(question, context, model, tokenizer)\n",
        "\n",
        "                # Semantic similarity\n",
        "                sim_score = util.cos_sim(\n",
        "                    semantic_model.encode(result[\"answer\"], convert_to_tensor=True),\n",
        "                    semantic_model.encode(true_answer, convert_to_tensor=True)\n",
        "                ).item()\n",
        "\n",
        "                # Match type\n",
        "                if result[\"answer\"].strip().lower() == true_answer.strip().lower():\n",
        "                    match_type = \"Exact\"\n",
        "                elif sim_score > 0.8:\n",
        "                    match_type = \"Semantic\"\n",
        "                else:\n",
        "                    match_type = \"Mismatch\"\n",
        "\n",
        "                results.append({\n",
        "                    \"QID\": qid,\n",
        "                    \"Question\": question,\n",
        "                    \"Ground Truth\": true_answer,\n",
        "                    \"Prediction\": result[\"answer\"],\n",
        "                    \"No-Answer Probability\": result[\"na_probability\"],\n",
        "                    \"Confidence Score\": result[\"confidence_score\"],\n",
        "                    \"Semantic Similarity\": round(sim_score, 4),\n",
        "                    \"Match Type\": match_type\n",
        "                })\n",
        "\n",
        "    output_file = \"semantic_predictions_json.csv\"\n",
        "\n",
        "elif input_type == \"csv\":\n",
        "    df = pd.read_csv(filename)\n",
        "\n",
        "    for idx, row in tqdm(df.iterrows(), total=len(df), desc=\"Processing CSV\"):\n",
        "        question = row[\"question\"]\n",
        "        context = row[\"context\"]\n",
        "        true_answer = row.get(\"answer\", \"\")\n",
        "\n",
        "        result = predict_answer_v2(question, context, model, tokenizer)\n",
        "\n",
        "        # Semantic similarity\n",
        "        sim_score = util.cos_sim(\n",
        "            semantic_model.encode(result[\"answer\"], convert_to_tensor=True),\n",
        "            semantic_model.encode(true_answer, convert_to_tensor=True)\n",
        "        ).item()\n",
        "\n",
        "        # Match type\n",
        "        if result[\"answer\"].strip().lower() == true_answer.strip().lower():\n",
        "            match_type = \"Exact\"\n",
        "        elif sim_score > 0.8:\n",
        "            match_type = \"Semantic\"\n",
        "        else:\n",
        "            match_type = \"Mismatch\"\n",
        "\n",
        "        results.append({\n",
        "            \"QID\": row.get(\"id\", idx),\n",
        "            \"Question\": question,\n",
        "            \"Ground Truth\": true_answer,\n",
        "            \"Prediction\": result[\"answer\"],\n",
        "            \"No-Answer Probability\": result[\"na_probability\"],\n",
        "            \"Confidence Score\": result[\"confidence_score\"],\n",
        "            \"Semantic Similarity\": round(sim_score, 4),\n",
        "            \"Match Type\": match_type\n",
        "        })\n",
        "\n",
        "    output_file = \"semantic_predictions_csv.csv\"\n",
        "\n",
        "# Save + display\n",
        "df_out = pd.DataFrame(results)\n",
        "df_out.to_csv(output_file, index=False)\n",
        "files.download(output_file)\n",
        "\n",
        "from IPython.display import display, HTML\n",
        "print(f\" Download Ready: {output_file}\")\n",
        "display(HTML(df_out.head(20).to_html(index=False)))\n"
      ],
      "metadata": {
        "colab": {
          "base_uri": "https://localhost:8080/",
          "height": 401
        },
        "id": "3LytqNCs4-UT",
        "outputId": "372cc488-9a8b-42ee-ac02-1a6612d32502"
      },
      "execution_count": null,
      "outputs": [
        {
          "output_type": "display_data",
          "data": {
            "text/plain": [
              "<IPython.core.display.HTML object>"
            ],
            "text/html": [
              "\n",
              "     <input type=\"file\" id=\"files-496e9c11-af55-4871-8c12-3c0819815f8a\" name=\"files[]\" multiple disabled\n",
              "        style=\"border:none\" />\n",
              "     <output id=\"result-496e9c11-af55-4871-8c12-3c0819815f8a\">\n",
              "      Upload widget is only available when the cell has been executed in the\n",
              "      current browser session. Please rerun this cell to enable.\n",
              "      </output>\n",
              "      <script>// Copyright 2017 Google LLC\n",
              "//\n",
              "// Licensed under the Apache License, Version 2.0 (the \"License\");\n",
              "// you may not use this file except in compliance with the License.\n",
              "// You may obtain a copy of the License at\n",
              "//\n",
              "//      http://www.apache.org/licenses/LICENSE-2.0\n",
              "//\n",
              "// Unless required by applicable law or agreed to in writing, software\n",
              "// distributed under the License is distributed on an \"AS IS\" BASIS,\n",
              "// WITHOUT WARRANTIES OR CONDITIONS OF ANY KIND, either express or implied.\n",
              "// See the License for the specific language governing permissions and\n",
              "// limitations under the License.\n",
              "\n",
              "/**\n",
              " * @fileoverview Helpers for google.colab Python module.\n",
              " */\n",
              "(function(scope) {\n",
              "function span(text, styleAttributes = {}) {\n",
              "  const element = document.createElement('span');\n",
              "  element.textContent = text;\n",
              "  for (const key of Object.keys(styleAttributes)) {\n",
              "    element.style[key] = styleAttributes[key];\n",
              "  }\n",
              "  return element;\n",
              "}\n",
              "\n",
              "// Max number of bytes which will be uploaded at a time.\n",
              "const MAX_PAYLOAD_SIZE = 100 * 1024;\n",
              "\n",
              "function _uploadFiles(inputId, outputId) {\n",
              "  const steps = uploadFilesStep(inputId, outputId);\n",
              "  const outputElement = document.getElementById(outputId);\n",
              "  // Cache steps on the outputElement to make it available for the next call\n",
              "  // to uploadFilesContinue from Python.\n",
              "  outputElement.steps = steps;\n",
              "\n",
              "  return _uploadFilesContinue(outputId);\n",
              "}\n",
              "\n",
              "// This is roughly an async generator (not supported in the browser yet),\n",
              "// where there are multiple asynchronous steps and the Python side is going\n",
              "// to poll for completion of each step.\n",
              "// This uses a Promise to block the python side on completion of each step,\n",
              "// then passes the result of the previous step as the input to the next step.\n",
              "function _uploadFilesContinue(outputId) {\n",
              "  const outputElement = document.getElementById(outputId);\n",
              "  const steps = outputElement.steps;\n",
              "\n",
              "  const next = steps.next(outputElement.lastPromiseValue);\n",
              "  return Promise.resolve(next.value.promise).then((value) => {\n",
              "    // Cache the last promise value to make it available to the next\n",
              "    // step of the generator.\n",
              "    outputElement.lastPromiseValue = value;\n",
              "    return next.value.response;\n",
              "  });\n",
              "}\n",
              "\n",
              "/**\n",
              " * Generator function which is called between each async step of the upload\n",
              " * process.\n",
              " * @param {string} inputId Element ID of the input file picker element.\n",
              " * @param {string} outputId Element ID of the output display.\n",
              " * @return {!Iterable<!Object>} Iterable of next steps.\n",
              " */\n",
              "function* uploadFilesStep(inputId, outputId) {\n",
              "  const inputElement = document.getElementById(inputId);\n",
              "  inputElement.disabled = false;\n",
              "\n",
              "  const outputElement = document.getElementById(outputId);\n",
              "  outputElement.innerHTML = '';\n",
              "\n",
              "  const pickedPromise = new Promise((resolve) => {\n",
              "    inputElement.addEventListener('change', (e) => {\n",
              "      resolve(e.target.files);\n",
              "    });\n",
              "  });\n",
              "\n",
              "  const cancel = document.createElement('button');\n",
              "  inputElement.parentElement.appendChild(cancel);\n",
              "  cancel.textContent = 'Cancel upload';\n",
              "  const cancelPromise = new Promise((resolve) => {\n",
              "    cancel.onclick = () => {\n",
              "      resolve(null);\n",
              "    };\n",
              "  });\n",
              "\n",
              "  // Wait for the user to pick the files.\n",
              "  const files = yield {\n",
              "    promise: Promise.race([pickedPromise, cancelPromise]),\n",
              "    response: {\n",
              "      action: 'starting',\n",
              "    }\n",
              "  };\n",
              "\n",
              "  cancel.remove();\n",
              "\n",
              "  // Disable the input element since further picks are not allowed.\n",
              "  inputElement.disabled = true;\n",
              "\n",
              "  if (!files) {\n",
              "    return {\n",
              "      response: {\n",
              "        action: 'complete',\n",
              "      }\n",
              "    };\n",
              "  }\n",
              "\n",
              "  for (const file of files) {\n",
              "    const li = document.createElement('li');\n",
              "    li.append(span(file.name, {fontWeight: 'bold'}));\n",
              "    li.append(span(\n",
              "        `(${file.type || 'n/a'}) - ${file.size} bytes, ` +\n",
              "        `last modified: ${\n",
              "            file.lastModifiedDate ? file.lastModifiedDate.toLocaleDateString() :\n",
              "                                    'n/a'} - `));\n",
              "    const percent = span('0% done');\n",
              "    li.appendChild(percent);\n",
              "\n",
              "    outputElement.appendChild(li);\n",
              "\n",
              "    const fileDataPromise = new Promise((resolve) => {\n",
              "      const reader = new FileReader();\n",
              "      reader.onload = (e) => {\n",
              "        resolve(e.target.result);\n",
              "      };\n",
              "      reader.readAsArrayBuffer(file);\n",
              "    });\n",
              "    // Wait for the data to be ready.\n",
              "    let fileData = yield {\n",
              "      promise: fileDataPromise,\n",
              "      response: {\n",
              "        action: 'continue',\n",
              "      }\n",
              "    };\n",
              "\n",
              "    // Use a chunked sending to avoid message size limits. See b/62115660.\n",
              "    let position = 0;\n",
              "    do {\n",
              "      const length = Math.min(fileData.byteLength - position, MAX_PAYLOAD_SIZE);\n",
              "      const chunk = new Uint8Array(fileData, position, length);\n",
              "      position += length;\n",
              "\n",
              "      const base64 = btoa(String.fromCharCode.apply(null, chunk));\n",
              "      yield {\n",
              "        response: {\n",
              "          action: 'append',\n",
              "          file: file.name,\n",
              "          data: base64,\n",
              "        },\n",
              "      };\n",
              "\n",
              "      let percentDone = fileData.byteLength === 0 ?\n",
              "          100 :\n",
              "          Math.round((position / fileData.byteLength) * 100);\n",
              "      percent.textContent = `${percentDone}% done`;\n",
              "\n",
              "    } while (position < fileData.byteLength);\n",
              "  }\n",
              "\n",
              "  // All done.\n",
              "  yield {\n",
              "    response: {\n",
              "      action: 'complete',\n",
              "    }\n",
              "  };\n",
              "}\n",
              "\n",
              "scope.google = scope.google || {};\n",
              "scope.google.colab = scope.google.colab || {};\n",
              "scope.google.colab._files = {\n",
              "  _uploadFiles,\n",
              "  _uploadFilesContinue,\n",
              "};\n",
              "})(self);\n",
              "</script> "
            ]
          },
          "metadata": {}
        },
        {
          "output_type": "stream",
          "name": "stdout",
          "text": [
            "Saving hoard_squad2.json to hoard_squad2 (1).json\n"
          ]
        },
        {
          "output_type": "stream",
          "name": "stderr",
          "text": [
            "Processing JSON: 100%|██████████| 1/1 [00:02<00:00,  2.35s/it]\n"
          ]
        },
        {
          "output_type": "display_data",
          "data": {
            "text/plain": [
              "<IPython.core.display.Javascript object>"
            ],
            "application/javascript": [
              "\n",
              "    async function download(id, filename, size) {\n",
              "      if (!google.colab.kernel.accessAllowed) {\n",
              "        return;\n",
              "      }\n",
              "      const div = document.createElement('div');\n",
              "      const label = document.createElement('label');\n",
              "      label.textContent = `Downloading \"${filename}\": `;\n",
              "      div.appendChild(label);\n",
              "      const progress = document.createElement('progress');\n",
              "      progress.max = size;\n",
              "      div.appendChild(progress);\n",
              "      document.body.appendChild(div);\n",
              "\n",
              "      const buffers = [];\n",
              "      let downloaded = 0;\n",
              "\n",
              "      const channel = await google.colab.kernel.comms.open(id);\n",
              "      // Send a message to notify the kernel that we're ready.\n",
              "      channel.send({})\n",
              "\n",
              "      for await (const message of channel.messages) {\n",
              "        // Send a message to notify the kernel that we're ready.\n",
              "        channel.send({})\n",
              "        if (message.buffers) {\n",
              "          for (const buffer of message.buffers) {\n",
              "            buffers.push(buffer);\n",
              "            downloaded += buffer.byteLength;\n",
              "            progress.value = downloaded;\n",
              "          }\n",
              "        }\n",
              "      }\n",
              "      const blob = new Blob(buffers, {type: 'application/binary'});\n",
              "      const a = document.createElement('a');\n",
              "      a.href = window.URL.createObjectURL(blob);\n",
              "      a.download = filename;\n",
              "      div.appendChild(a);\n",
              "      a.click();\n",
              "      div.remove();\n",
              "    }\n",
              "  "
            ]
          },
          "metadata": {}
        },
        {
          "output_type": "display_data",
          "data": {
            "text/plain": [
              "<IPython.core.display.Javascript object>"
            ],
            "application/javascript": [
              "download(\"download_9caa8c80-42b3-4f8b-998d-59330d59aa0d\", \"semantic_predictions_json.csv\", 846)"
            ]
          },
          "metadata": {}
        },
        {
          "output_type": "stream",
          "name": "stdout",
          "text": [
            "✅ Download Ready: semantic_predictions_json.csv\n"
          ]
        },
        {
          "output_type": "display_data",
          "data": {
            "text/plain": [
              "<IPython.core.display.HTML object>"
            ],
            "text/html": [
              "<table border=\"1\" class=\"dataframe\">\n",
              "  <thead>\n",
              "    <tr style=\"text-align: right;\">\n",
              "      <th>QID</th>\n",
              "      <th>Question</th>\n",
              "      <th>Ground Truth</th>\n",
              "      <th>Prediction</th>\n",
              "      <th>No-Answer Probability</th>\n",
              "      <th>Confidence Score</th>\n",
              "      <th>Semantic Similarity</th>\n",
              "      <th>Match Type</th>\n",
              "    </tr>\n",
              "  </thead>\n",
              "  <tbody>\n",
              "    <tr>\n",
              "      <td>q1</td>\n",
              "      <td>What position did William D. Hoard serve in Wisconsin?</td>\n",
              "      <td>16th governor of Wisconsin</td>\n",
              "      <td>16th governor</td>\n",
              "      <td>0.0000</td>\n",
              "      <td>17.0174</td>\n",
              "      <td>0.8139</td>\n",
              "      <td>Semantic</td>\n",
              "    </tr>\n",
              "    <tr>\n",
              "      <td>q2</td>\n",
              "      <td>What nickname was William D. Hoard given?</td>\n",
              "      <td>father of modern dairying</td>\n",
              "      <td>father of modern dairying</td>\n",
              "      <td>0.0000</td>\n",
              "      <td>16.3950</td>\n",
              "      <td>1.0000</td>\n",
              "      <td>Exact</td>\n",
              "    </tr>\n",
              "    <tr>\n",
              "      <td>q3</td>\n",
              "      <td>Did William D. Hoard advocate for industrial engineering?</td>\n",
              "      <td></td>\n",
              "      <td>No answer</td>\n",
              "      <td>0.5000</td>\n",
              "      <td>-2.3474</td>\n",
              "      <td>0.1998</td>\n",
              "      <td>Mismatch</td>\n",
              "    </tr>\n",
              "    <tr>\n",
              "      <td>q4</td>\n",
              "      <td>What agency did William D. Hoard create related to food inspection?</td>\n",
              "      <td>Dairy and Food Commission</td>\n",
              "      <td>Dairy and Food Commission</td>\n",
              "      <td>0.0000</td>\n",
              "      <td>17.8883</td>\n",
              "      <td>1.0000</td>\n",
              "      <td>Exact</td>\n",
              "    </tr>\n",
              "    <tr>\n",
              "      <td>q5</td>\n",
              "      <td>Did William D. Hoard support German language education?</td>\n",
              "      <td></td>\n",
              "      <td>November 22, 1918) was an American politician, newspaper publisher, and agriculture advocate who served as the 16th governor of Wisconsin from 1889 to 1891.</td>\n",
              "      <td>0.0071</td>\n",
              "      <td>-0.3266</td>\n",
              "      <td>0.0720</td>\n",
              "      <td>Mismatch</td>\n",
              "    </tr>\n",
              "  </tbody>\n",
              "</table>"
            ]
          },
          "metadata": {}
        }
      ]
    },
    {
      "cell_type": "markdown",
      "source": [
        "# **Final Visualization Block**"
      ],
      "metadata": {
        "id": "L2BF3badKcGF"
      }
    },
    {
      "cell_type": "code",
      "source": [
        "import seaborn as sns\n",
        "import matplotlib.pyplot as plt\n",
        "from IPython.display import display, HTML\n",
        "\n",
        "# Set style\n",
        "sns.set(style=\"whitegrid\")\n",
        "plt.rcParams[\"figure.figsize\"] = (8, 4)\n",
        "\n",
        "# 👁️ 1. Match Type Count\n",
        "plt.figure()\n",
        "sns.countplot(data=df_out, x=\"Match Type\", palette=\"Set2\")\n",
        "plt.title(\"📊 Match Type Distribution\")\n",
        "plt.ylabel(\"Count\")\n",
        "plt.xlabel(\"Match Type\")\n",
        "plt.grid(True, axis='y')\n",
        "plt.show()\n",
        "\n",
        "# 👁️ 2. Semantic Similarity Distribution\n",
        "plt.figure()\n",
        "sns.histplot(df_out[\"Semantic Similarity\"], bins=20, kde=True, color=\"skyblue\")\n",
        "plt.title(\"📈 Semantic Similarity Score Distribution\")\n",
        "plt.xlabel(\"Similarity Score\")\n",
        "plt.ylabel(\"Frequency\")\n",
        "plt.grid(True)\n",
        "plt.show()\n",
        "\n",
        "# 👁️ 3. No-Answer Probability by Match Type\n",
        "plt.figure()\n",
        "sns.boxplot(data=df_out, x=\"Match Type\", y=\"No-Answer Probability\", palette=\"pastel\")\n",
        "plt.title(\" No-Answer Probability by Match Type\")\n",
        "plt.xlabel(\"Match Type\")\n",
        "plt.ylabel(\"No-Answer Probability\")\n",
        "plt.grid(True)\n",
        "plt.show()\n",
        "\n",
        "# 👁️ 4. Confidence Score vs Semantic Similarity\n",
        "plt.figure()\n",
        "sns.scatterplot(\n",
        "    data=df_out,\n",
        "    x=\"Confidence Score\",\n",
        "    y=\"Semantic Similarity\",\n",
        "    hue=\"Match Type\",\n",
        "    style=\"Match Type\",\n",
        "    palette=\"deep\"\n",
        ")\n",
        "plt.title(\"📉 Confidence Score vs. Semantic Similarity\")\n",
        "plt.xlabel(\"Confidence Score\")\n",
        "plt.ylabel(\"Semantic Similarity\")\n",
        "plt.grid(True)\n",
        "plt.show()\n",
        "\n",
        "#  5. Show Full Match Type Summary Table\n",
        "summary = df_out[\"Match Type\"].value_counts().reset_index()\n",
        "summary.columns = [\"Match Type\", \"Count\"]\n",
        "print(\"🧾 Match Type Summary:\")\n",
        "display(summary)\n"
      ],
      "metadata": {
        "colab": {
          "base_uri": "https://localhost:8080/",
          "height": 1000
        },
        "id": "62SxnG9YKeVo",
        "outputId": "da7be06f-9183-4df7-93d2-78cb7c9ff0a4"
      },
      "execution_count": null,
      "outputs": [
        {
          "output_type": "stream",
          "name": "stderr",
          "text": [
            "<ipython-input-65-1dd7d1cbf931>:11: FutureWarning: \n",
            "\n",
            "Passing `palette` without assigning `hue` is deprecated and will be removed in v0.14.0. Assign the `x` variable to `hue` and set `legend=False` for the same effect.\n",
            "\n",
            "  sns.countplot(data=df_out, x=\"Match Type\", palette=\"Set2\")\n",
            "/usr/local/lib/python3.11/dist-packages/IPython/core/pylabtools.py:151: UserWarning: Glyph 128202 (\\N{BAR CHART}) missing from font(s) DejaVu Sans.\n",
            "  fig.canvas.print_figure(bytes_io, **kw)\n"
          ]
        },
        {
          "output_type": "display_data",
          "data": {
            "text/plain": [
              "<Figure size 800x400 with 1 Axes>"
            ],
            "image/png": "[encoded data removed]"
          },
          "metadata": {}
        },
        {
          "output_type": "stream",
          "name": "stderr",
          "text": [
            "/usr/local/lib/python3.11/dist-packages/IPython/core/pylabtools.py:151: UserWarning: Glyph 128200 (\\N{CHART WITH UPWARDS TREND}) missing from font(s) DejaVu Sans.\n",
            "  fig.canvas.print_figure(bytes_io, **kw)\n"
          ]
        },
        {
          "output_type": "display_data",
          "data": {
            "text/plain": [
              "<Figure size 800x400 with 1 Axes>"
            ],
            "image/png": "[encoded data removed]"
          },
          "metadata": {}
        },
        {
          "output_type": "stream",
          "name": "stderr",
          "text": [
            "<ipython-input-65-1dd7d1cbf931>:29: FutureWarning: \n",
            "\n",
            "Passing `palette` without assigning `hue` is deprecated and will be removed in v0.14.0. Assign the `x` variable to `hue` and set `legend=False` for the same effect.\n",
            "\n",
            "  sns.boxplot(data=df_out, x=\"Match Type\", y=\"No-Answer Probability\", palette=\"pastel\")\n",
            "/usr/local/lib/python3.11/dist-packages/IPython/core/pylabtools.py:151: UserWarning: Glyph 129504 (\\N{BRAIN}) missing from font(s) DejaVu Sans.\n",
            "  fig.canvas.print_figure(bytes_io, **kw)\n"
          ]
        },
        {
          "output_type": "display_data",
          "data": {
            "text/plain": [
              "<Figure size 800x400 with 1 Axes>"
            ],
            "image/png": "[encoded data removed]"
          },
          "metadata": {}
        },
        {
          "output_type": "stream",
          "name": "stderr",
          "text": [
            "/usr/local/lib/python3.11/dist-packages/IPython/core/pylabtools.py:151: UserWarning: Glyph 128201 (\\N{CHART WITH DOWNWARDS TREND}) missing from font(s) DejaVu Sans.\n",
            "  fig.canvas.print_figure(bytes_io, **kw)\n"
          ]
        },
        {
          "output_type": "display_data",
          "data": {
            "text/plain": [
              "<Figure size 800x400 with 1 Axes>"
            ],
            "image/png": "[encoded data removed]"
          },
          "metadata": {}
        },
        {
          "output_type": "stream",
          "name": "stdout",
          "text": [
            "🧾 Match Type Summary:\n"
          ]
        },
        {
          "output_type": "display_data",
          "data": {
            "text/plain": [
              "  Match Type  Count\n",
              "0      Exact      2\n",
              "1   Mismatch      2\n",
              "2   Semantic      1"
            ],
            "text/html": [
              "\n",
              "  <div id=\"df-346b89ba-66d6-44f0-9b89-ce85d898a29a\" class=\"colab-df-container\">\n",
              "    <div>\n",
              "<style scoped>\n",
              "    .dataframe tbody tr th:only-of-type {\n",
              "        vertical-align: middle;\n",
              "    }\n",
              "\n",
              "    .dataframe tbody tr th {\n",
              "        vertical-align: top;\n",
              "    }\n",
              "\n",
              "    .dataframe thead th {\n",
              "        text-align: right;\n",
              "    }\n",
              "</style>\n",
              "<table border=\"1\" class=\"dataframe\">\n",
              "  <thead>\n",
              "    <tr style=\"text-align: right;\">\n",
              "      <th></th>\n",
              "      <th>Match Type</th>\n",
              "      <th>Count</th>\n",
              "    </tr>\n",
              "  </thead>\n",
              "  <tbody>\n",
              "    <tr>\n",
              "      <th>0</th>\n",
              "      <td>Exact</td>\n",
              "      <td>2</td>\n",
              "    </tr>\n",
              "    <tr>\n",
              "      <th>1</th>\n",
              "      <td>Mismatch</td>\n",
              "      <td>2</td>\n",
              "    </tr>\n",
              "    <tr>\n",
              "      <th>2</th>\n",
              "      <td>Semantic</td>\n",
              "      <td>1</td>\n",
              "    </tr>\n",
              "  </tbody>\n",
              "</table>\n",
              "</div>\n",
              "    <div class=\"colab-df-buttons\">\n",
              "\n",
              "  <div class=\"colab-df-container\">\n",
              "    <button class=\"colab-df-convert\" onclick=\"convertToInteractive('df-346b89ba-66d6-44f0-9b89-ce85d898a29a')\"\n",
              "            title=\"Convert this dataframe to an interactive table.\"\n",
              "            style=\"display:none;\">\n",
              "\n",
              "  <svg xmlns=\"http://www.w3.org/2000/svg\" height=\"24px\" viewBox=\"0 -960 960 960\">\n",
              "    <path d=\"M120-120v-720h720v720H120Zm60-500h600v-160H180v160Zm220 220h160v-160H400v160Zm0 220h160v-160H400v160ZM180-400h160v-160H180v160Zm440 0h160v-160H620v160ZM180-180h160v-160H180v160Zm440 0h160v-160H620v160Z\"/>\n",
              "  </svg>\n",
              "    </button>\n",
              "\n",
              "  <style>\n",
              "    .colab-df-container {\n",
              "      display:flex;\n",
              "      gap: 12px;\n",
              "    }\n",
              "\n",
              "    .colab-df-convert {\n",
              "      background-color: #E8F0FE;\n",
              "      border: none;\n",
              "      border-radius: 50%;\n",
              "      cursor: pointer;\n",
              "      display: none;\n",
              "      fill: #1967D2;\n",
              "      height: 32px;\n",
              "      padding: 0 0 0 0;\n",
              "      width: 32px;\n",
              "    }\n",
              "\n",
              "    .colab-df-convert:hover {\n",
              "      background-color: #E2EBFA;\n",
              "      box-shadow: 0px 1px 2px rgba(60, 64, 67, 0.3), 0px 1px 3px 1px rgba(60, 64, 67, 0.15);\n",
              "      fill: #174EA6;\n",
              "    }\n",
              "\n",
              "    .colab-df-buttons div {\n",
              "      margin-bottom: 4px;\n",
              "    }\n",
              "\n",
              "    [theme=dark] .colab-df-convert {\n",
              "      background-color: #3B4455;\n",
              "      fill: #D2E3FC;\n",
              "    }\n",
              "\n",
              "    [theme=dark] .colab-df-convert:hover {\n",
              "      background-color: #434B5C;\n",
              "      box-shadow: 0px 1px 3px 1px rgba(0, 0, 0, 0.15);\n",
              "      filter: drop-shadow(0px 1px 2px rgba(0, 0, 0, 0.3));\n",
              "      fill: #FFFFFF;\n",
              "    }\n",
              "  </style>\n",
              "\n",
              "    <script>\n",
              "      const buttonEl =\n",
              "        document.querySelector('#df-346b89ba-66d6-44f0-9b89-ce85d898a29a button.colab-df-convert');\n",
              "      buttonEl.style.display =\n",
              "        google.colab.kernel.accessAllowed ? 'block' : 'none';\n",
              "\n",
              "      async function convertToInteractive(key) {\n",
              "        const element = document.querySelector('#df-346b89ba-66d6-44f0-9b89-ce85d898a29a');\n",
              "        const dataTable =\n",
              "          await google.colab.kernel.invokeFunction('convertToInteractive',\n",
              "                                                    [key], {});\n",
              "        if (!dataTable) return;\n",
              "\n",
              "        const docLinkHtml = 'Like what you see? Visit the ' +\n",
              "          '<a target=\"_blank\" href=https://colab.research.google.com/notebooks/data_table.ipynb>data table notebook</a>'\n",
              "          + ' to learn more about interactive tables.';\n",
              "        element.innerHTML = '';\n",
              "        dataTable['output_type'] = 'display_data';\n",
              "        await google.colab.output.renderOutput(dataTable, element);\n",
              "        const docLink = document.createElement('div');\n",
              "        docLink.innerHTML = docLinkHtml;\n",
              "        element.appendChild(docLink);\n",
              "      }\n",
              "    </script>\n",
              "  </div>\n",
              "\n",
              "\n",
              "<div id=\"df-50df8ca5-d187-4c31-882f-8e88ca09a68c\">\n",
              "  <button class=\"colab-df-quickchart\" onclick=\"quickchart('df-50df8ca5-d187-4c31-882f-8e88ca09a68c')\"\n",
              "            title=\"Suggest charts\"\n",
              "            style=\"display:none;\">\n",
              "\n",
              "<svg xmlns=\"http://www.w3.org/2000/svg\" height=\"24px\"viewBox=\"0 0 24 24\"\n",
              "     width=\"24px\">\n",
              "    <g>\n",
              "        <path d=\"M19 3H5c-1.1 0-2 .9-2 2v14c0 1.1.9 2 2 2h14c1.1 0 2-.9 2-2V5c0-1.1-.9-2-2-2zM9 17H7v-7h2v7zm4 0h-2V7h2v10zm4 0h-2v-4h2v4z\"/>\n",
              "    </g>\n",
              "</svg>\n",
              "  </button>\n",
              "\n",
              "<style>\n",
              "  .colab-df-quickchart {\n",
              "      --bg-color: #E8F0FE;\n",
              "      --fill-color: #1967D2;\n",
              "      --hover-bg-color: #E2EBFA;\n",
              "      --hover-fill-color: #174EA6;\n",
              "      --disabled-fill-color: #AAA;\n",
              "      --disabled-bg-color: #DDD;\n",
              "  }\n",
              "\n",
              "  [theme=dark] .colab-df-quickchart {\n",
              "      --bg-color: #3B4455;\n",
              "      --fill-color: #D2E3FC;\n",
              "      --hover-bg-color: #434B5C;\n",
              "      --hover-fill-color: #FFFFFF;\n",
              "      --disabled-bg-color: #3B4455;\n",
              "      --disabled-fill-color: #666;\n",
              "  }\n",
              "\n",
              "  .colab-df-quickchart {\n",
              "    background-color: var(--bg-color);\n",
              "    border: none;\n",
              "    border-radius: 50%;\n",
              "    cursor: pointer;\n",
              "    display: none;\n",
              "    fill: var(--fill-color);\n",
              "    height: 32px;\n",
              "    padding: 0;\n",
              "    width: 32px;\n",
              "  }\n",
              "\n",
              "  .colab-df-quickchart:hover {\n",
              "    background-color: var(--hover-bg-color);\n",
              "    box-shadow: 0 1px 2px rgba(60, 64, 67, 0.3), 0 1px 3px 1px rgba(60, 64, 67, 0.15);\n",
              "    fill: var(--button-hover-fill-color);\n",
              "  }\n",
              "\n",
              "  .colab-df-quickchart-complete:disabled,\n",
              "  .colab-df-quickchart-complete:disabled:hover {\n",
              "    background-color: var(--disabled-bg-color);\n",
              "    fill: var(--disabled-fill-color);\n",
              "    box-shadow: none;\n",
              "  }\n",
              "\n",
              "  .colab-df-spinner {\n",
              "    border: 2px solid var(--fill-color);\n",
              "    border-color: transparent;\n",
              "    border-bottom-color: var(--fill-color);\n",
              "    animation:\n",
              "      spin 1s steps(1) infinite;\n",
              "  }\n",
              "\n",
              "  @keyframes spin {\n",
              "    0% {\n",
              "      border-color: transparent;\n",
              "      border-bottom-color: var(--fill-color);\n",
              "      border-left-color: var(--fill-color);\n",
              "    }\n",
              "    20% {\n",
              "      border-color: transparent;\n",
              "      border-left-color: var(--fill-color);\n",
              "      border-top-color: var(--fill-color);\n",
              "    }\n",
              "    30% {\n",
              "      border-color: transparent;\n",
              "      border-left-color: var(--fill-color);\n",
              "      border-top-color: var(--fill-color);\n",
              "      border-right-color: var(--fill-color);\n",
              "    }\n",
              "    40% {\n",
              "      border-color: transparent;\n",
              "      border-right-color: var(--fill-color);\n",
              "      border-top-color: var(--fill-color);\n",
              "    }\n",
              "    60% {\n",
              "      border-color: transparent;\n",
              "      border-right-color: var(--fill-color);\n",
              "    }\n",
              "    80% {\n",
              "      border-color: transparent;\n",
              "      border-right-color: var(--fill-color);\n",
              "      border-bottom-color: var(--fill-color);\n",
              "    }\n",
              "    90% {\n",
              "      border-color: transparent;\n",
              "      border-bottom-color: var(--fill-color);\n",
              "    }\n",
              "  }\n",
              "</style>\n",
              "\n",
              "  <script>\n",
              "    async function quickchart(key) {\n",
              "      const quickchartButtonEl =\n",
              "        document.querySelector('#' + key + ' button');\n",
              "      quickchartButtonEl.disabled = true;  // To prevent multiple clicks.\n",
              "      quickchartButtonEl.classList.add('colab-df-spinner');\n",
              "      try {\n",
              "        const charts = await google.colab.kernel.invokeFunction(\n",
              "            'suggestCharts', [key], {});\n",
              "      } catch (error) {\n",
              "        console.error('Error during call to suggestCharts:', error);\n",
              "      }\n",
              "      quickchartButtonEl.classList.remove('colab-df-spinner');\n",
              "      quickchartButtonEl.classList.add('colab-df-quickchart-complete');\n",
              "    }\n",
              "    (() => {\n",
              "      let quickchartButtonEl =\n",
              "        document.querySelector('#df-50df8ca5-d187-4c31-882f-8e88ca09a68c button');\n",
              "      quickchartButtonEl.style.display =\n",
              "        google.colab.kernel.accessAllowed ? 'block' : 'none';\n",
              "    })();\n",
              "  </script>\n",
              "</div>\n",
              "\n",
              "  <div id=\"id_84ecf02f-f762-4ec1-99b8-81c00f6ab919\">\n",
              "    <style>\n",
              "      .colab-df-generate {\n",
              "        background-color: #E8F0FE;\n",
              "        border: none;\n",
              "        border-radius: 50%;\n",
              "        cursor: pointer;\n",
              "        display: none;\n",
              "        fill: #1967D2;\n",
              "        height: 32px;\n",
              "        padding: 0 0 0 0;\n",
              "        width: 32px;\n",
              "      }\n",
              "\n",
              "      .colab-df-generate:hover {\n",
              "        background-color: #E2EBFA;\n",
              "        box-shadow: 0px 1px 2px rgba(60, 64, 67, 0.3), 0px 1px 3px 1px rgba(60, 64, 67, 0.15);\n",
              "        fill: #174EA6;\n",
              "      }\n",
              "\n",
              "      [theme=dark] .colab-df-generate {\n",
              "        background-color: #3B4455;\n",
              "        fill: #D2E3FC;\n",
              "      }\n",
              "\n",
              "      [theme=dark] .colab-df-generate:hover {\n",
              "        background-color: #434B5C;\n",
              "        box-shadow: 0px 1px 3px 1px rgba(0, 0, 0, 0.15);\n",
              "        filter: drop-shadow(0px 1px 2px rgba(0, 0, 0, 0.3));\n",
              "        fill: #FFFFFF;\n",
              "      }\n",
              "    </style>\n",
              "    <button class=\"colab-df-generate\" onclick=\"generateWithVariable('summary')\"\n",
              "            title=\"Generate code using this dataframe.\"\n",
              "            style=\"display:none;\">\n",
              "\n",
              "  <svg xmlns=\"http://www.w3.org/2000/svg\" height=\"24px\"viewBox=\"0 0 24 24\"\n",
              "       width=\"24px\">\n",
              "    <path d=\"M7,19H8.4L18.45,9,17,7.55,7,17.6ZM5,21V16.75L18.45,3.32a2,2,0,0,1,2.83,0l1.4,1.43a1.91,1.91,0,0,1,.58,1.4,1.91,1.91,0,0,1-.58,1.4L9.25,21ZM18.45,9,17,7.55Zm-12,3A5.31,5.31,0,0,0,4.9,8.1,5.31,5.31,0,0,0,1,6.5,5.31,5.31,0,0,0,4.9,4.9,5.31,5.31,0,0,0,6.5,1,5.31,5.31,0,0,0,8.1,4.9,5.31,5.31,0,0,0,12,6.5,5.46,5.46,0,0,0,6.5,12Z\"/>\n",
              "  </svg>\n",
              "    </button>\n",
              "    <script>\n",
              "      (() => {\n",
              "      const buttonEl =\n",
              "        document.querySelector('#id_84ecf02f-f762-4ec1-99b8-81c00f6ab919 button.colab-df-generate');\n",
              "      buttonEl.style.display =\n",
              "        google.colab.kernel.accessAllowed ? 'block' : 'none';\n",
              "\n",
              "      buttonEl.onclick = () => {\n",
              "        google.colab.notebook.generateWithVariable('summary');\n",
              "      }\n",
              "      })();\n",
              "    </script>\n",
              "  </div>\n",
              "\n",
              "    </div>\n",
              "  </div>\n"
            ],
            "application/vnd.google.colaboratory.intrinsic+json": {
              "type": "dataframe",
              "variable_name": "summary",
              "summary": "{\n  \"name\": \"summary\",\n  \"rows\": 3,\n  \"fields\": [\n    {\n      \"column\": \"Match Type\",\n      \"properties\": {\n        \"dtype\": \"string\",\n        \"num_unique_values\": 3,\n        \"samples\": [\n          \"Exact\",\n          \"Mismatch\",\n          \"Semantic\"\n        ],\n        \"semantic_type\": \"\",\n        \"description\": \"\"\n      }\n    },\n    {\n      \"column\": \"Count\",\n      \"properties\": {\n        \"dtype\": \"number\",\n        \"std\": 0,\n        \"min\": 1,\n        \"max\": 2,\n        \"num_unique_values\": 2,\n        \"samples\": [\n          1,\n          2\n        ],\n        \"semantic_type\": \"\",\n        \"description\": \"\"\n      }\n    }\n  ]\n}"
            }
          },
          "metadata": {}
        }
      ]
    },
    {
      "cell_type": "code",
      "source": [
        "from sklearn.metrics import confusion_matrix, ConfusionMatrixDisplay, classification_report\n",
        "import matplotlib.pyplot as plt\n",
        "\n",
        "# -----------------------\n",
        "# 🏷️ Label Preparation\n",
        "# -----------------------\n",
        "\n",
        "# True: 1 = has answer, 0 = no answer\n",
        "df_out[\"True_Label\"] = df_out[\"Ground Truth\"].apply(lambda x: 0 if str(x).strip() == \"\" else 1)\n",
        "df_out[\"Pred_Label\"] = df_out[\"Prediction\"].apply(lambda x: 0 if str(x).strip() == \"\" else 1)\n",
        "\n",
        "# -----------------------\n",
        "#  Confusion Matrix\n",
        "# -----------------------\n",
        "cm = confusion_matrix(df_out[\"True_Label\"], df_out[\"Pred_Label\"])\n",
        "disp = ConfusionMatrixDisplay(confusion_matrix=cm, display_labels=[\"No Answer\", \"Answer\"])\n",
        "disp.plot(cmap=\"Blues\", values_format='d')\n",
        "plt.title(\" Confusion Matrix: Answerable vs. No Answer\")\n",
        "plt.grid(False)\n",
        "plt.show()\n",
        "\n",
        "# -----------------------\n",
        "#  Classification Report\n",
        "# -----------------------\n",
        "print(\" Classification Report (for Answerable Classification)\\n\")\n",
        "print(classification_report(\n",
        "    df_out[\"True_Label\"],\n",
        "    df_out[\"Pred_Label\"],\n",
        "    target_names=[\"No Answer\", \"Answer\"]\n",
        "))\n"
      ],
      "metadata": {
        "colab": {
          "base_uri": "https://localhost:8080/",
          "height": 769
        },
        "id": "w0jnOoIdQ5Dt",
        "outputId": "be17c854-0c41-48ce-9447-3bd9953a4eb2"
      },
      "execution_count": null,
      "outputs": [
        {
          "output_type": "stream",
          "name": "stderr",
          "text": [
            "/usr/local/lib/python3.11/dist-packages/IPython/core/pylabtools.py:151: UserWarning: Glyph 129518 (\\N{ABACUS}) missing from font(s) DejaVu Sans.\n",
            "  fig.canvas.print_figure(bytes_io, **kw)\n"
          ]
        },
        {
          "output_type": "display_data",
          "data": {
            "text/plain": [
              "<Figure size 800x400 with 2 Axes>"
            ],
            "image/png": "[encoded data removed]"
          },
          "metadata": {}
        },
        {
          "output_type": "stream",
          "name": "stdout",
          "text": [
            "📊 Classification Report (for Answerable Classification)\n",
            "\n",
            "              precision    recall  f1-score   support\n",
            "\n",
            "   No Answer       0.00      0.00      0.00         2\n",
            "      Answer       0.60      1.00      0.75         3\n",
            "\n",
            "    accuracy                           0.60         5\n",
            "   macro avg       0.30      0.50      0.38         5\n",
            "weighted avg       0.36      0.60      0.45         5\n",
            "\n"
          ]
        },
        {
          "output_type": "stream",
          "name": "stderr",
          "text": [
            "/usr/local/lib/python3.11/dist-packages/sklearn/metrics/_classification.py:1565: UndefinedMetricWarning: Precision is ill-defined and being set to 0.0 in labels with no predicted samples. Use `zero_division` parameter to control this behavior.\n",
            "  _warn_prf(average, modifier, f\"{metric.capitalize()} is\", len(result))\n",
            "/usr/local/lib/python3.11/dist-packages/sklearn/metrics/_classification.py:1565: UndefinedMetricWarning: Precision is ill-defined and being set to 0.0 in labels with no predicted samples. Use `zero_division` parameter to control this behavior.\n",
            "  _warn_prf(average, modifier, f\"{metric.capitalize()} is\", len(result))\n",
            "/usr/local/lib/python3.11/dist-packages/sklearn/metrics/_classification.py:1565: UndefinedMetricWarning: Precision is ill-defined and being set to 0.0 in labels with no predicted samples. Use `zero_division` parameter to control this behavior.\n",
            "  _warn_prf(average, modifier, f\"{metric.capitalize()} is\", len(result))\n"
          ]
        }
      ]
    },
    {
      "cell_type": "markdown",
      "metadata": {
        "id": "eaKIZmRjDu1W"
      },
      "source": [
        "**Save to Google Drive**"
      ]
    }
  ]
}